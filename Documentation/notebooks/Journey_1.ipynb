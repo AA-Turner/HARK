{
 "cells": [
  {
   "cell_type": "markdown",
   "metadata": {},
   "source": [
    "Journey 1: 1st year PhD student \n",
    "====\n"
   ]
  },
  {
   "cell_type": "markdown",
   "metadata": {},
   "source": [
    "# Introduction\n",
    "\n",
    "This notebook is a one of the possible journeys to learn HARK - the python package designed to solve economic models with the heterogeneous agents. As it is a \"journey\", it is not a one big tutorial but a set of the links to the notebooks/other resources which will help you understand the different HARK objects and functionalities. \n",
    "\n",
    "This journey does not require a special skills in programing. However, we propose a few introductions to Python and object oriented programing (OOP), to make you familiar with the basic concepts. Moreover, we assume some knowledge in economic theory.\n",
    "\n",
    "As you have found this journey, you probably have a concept of heterogeneous agent model, but here is a short recap. Think about a basic infinitely lived consumer problem as you know from first-year graduate courses (letting alone the companies and general equilibrium). Using the Bellman equation we can write it as:\n",
    "\n",
    "\\begin{eqnarray*}\n",
    "V(M_t) &=& \\max_{C_t} U(C_t) + \\beta V(M_{t+1}), \\\\\n",
    "& s.t. & \\\\\n",
    "A_t &=& M_t - C_t, \\\\\n",
    "M_{t+1} &=& R (M_{t}-C_{t}) + Y_t, \\\\\n",
    "\\end{eqnarray*}\n",
    "\n",
    "\n",
    "Where $\\beta <1 $ is a discount factor, $C_t$ is a consumption, $A_t$ - assets, $Y_t$ - income and $U(C)$ is a standard CRRA utility function:\n",
    "$$\n",
    "U(C)=\\frac{C^{1-\\rho}}{1-\\rho}\n",
    "$$\n",
    "\n",
    "Now assume that every consumer faces some uncertainty concerning hers income (eg. it follows AR(1) process), which is idiosyncratic - the realizations of each shock is (potentially) different for each agent. In this setting the bellman equation looks like:\n",
    "\\begin{eqnarray*}\n",
    "V(M_t, Y_t) &=& \\max_{C_t} U(C_t) + E\\[\\beta V(M_{t+1}, Y_{t+1})\\], \\\\\n",
    "& s.t. & \\\\\n",
    "A_t &=& M_t - C_t, \\\\\n",
    "M_{t+1} &=& R (M_{t}-C_{t}) + Y_t, \\\\\n",
    "\\end{eqnarray*}\n",
    "\n",
    "Therefore finding a distribution of agent assets (consumption, savings) involves many much more sophisticated numerical tools than in case of a representative agent. Obviously, this methods are much more demanding to master. Moreover, the knowledge about this numerical methods is much less structuralized, and often hard to find, as it is mentioned in the HARK manual:\n",
    "\n",
    "*\"After months of effort, you may have had the character-improving experience of\n",
    "proudly explaining to your adviser that not only had you grafted two ideas\n",
    "together, you also found a trick that speeded the solution by an order of\n",
    "magnitude, only to be told that your breathtaking insight had been understood\n",
    "for many years, as reflected in an appendix to a 2008 paper; or, worse, your\n",
    "discovery was something that “everybody knows” but did not exist at all in\n",
    "published form!\"*\n",
    "\n",
    "\n",
    "HARK was designed to help you avoid the similar experiences. Firstly, it enables you to use the standard heterogeneous agents models in your research, not pushing you to understand all the numerical ideas. Moreover, if you want to solve a not-standard model, HARK enables you to create your solution building-on the already implemented algorithms. \n",
    "\n",
    "Nevertheless, it requires some time to comprehend the main classes and functionalities. We hope that this journey will make this easier! Additionally, at the final sections of the journey, we give you some guidance about the code structure and the numerical methods, what will be helpful if (one day) you decided to solve your own, completely not - standard, fancy model.        \n"
   ]
  },
  {
   "cell_type": "markdown",
   "metadata": {},
   "source": [
    "# Before you start\n",
    "\n",
    "As we mention before, this journey does not require you to have a special skill in programing. However, some knowledge about Python and object oriented programing (OOP) is needed. We propose two possible ways to gather the basic concepts, however plenty of others are available:\n",
    "\n",
    "- Quick introduction to Python and OOP: the first three chapters from [Quantecon](https://lectures.quantecon.org/py/index_postgrad.html) should familiarize you with everything what you need for the first tutorials.\n",
    "- A little longer introduction (if you want to learn something about used numerical methods): \n",
    "    - Start with the basic Python [tutorial](https://docs.python.org/3/tutorial)\n",
    "    - Get some knowledge about [Numpy](https://docs.scipy.org/doc/numpy/user/quickstart.html)\n",
    "    "
   ]
  },
  {
   "cell_type": "markdown",
   "metadata": {},
   "source": [
    "# Few words about HARK structure\n",
    "\n",
    "HARK was written using OOP (we hope that you skimmed the tutorials and have some understanding of this). This means that different parts of the model, like different type of consumers', firms, general equilibrium (if you have this components in the model) are implemented as different objects. \n",
    "\n",
    "Such structure enables you to build your own models with different consumer types distributions / companies structure (if you want some)... . Importantly, learning the package with a such structure imply learning the different types of objects (classes). In HARK there are two main classes: **Agent-type** (think consumers, microeconomic models) and **Market** (think general equilibrium, macro models). As Agent-type objects are the attributes of Market, we firstly present you this type (additionally, if you are interested in more microeconomic research, the market class may not be interesting for you). \n",
    "\n",
    "However, only two classes will not be enough to accommodate the huge variety of the currently used models. Thus, each of the classes have subclasses and they have their own subclasses... In general more sophisticated class is a subclass. This journey will reflect this structure, by showing you first the most primitive models, then proceed to the more fancy ones.\n"
   ]
  },
  {
   "cell_type": "markdown",
   "metadata": {},
   "source": [
    "# Agent-type class \n",
    "Agent-type class enables to build the microeconomic models. For instance, the models which were formulated in the introduction. \n",
    "\n",
    "As it was mentioned, in HARK more sophisticated models are subclasses of the more primitive ones. The diagram, illustrates this structure: the deterministic class **PerfForesightConsumerType**, is then a parent for the class of the consumers with idiosyncratic income shocks **IndShockConsumerType**. Next there is a class with the idiosyncratic and aggregate income shocks **𝙼𝚊𝚛𝚔𝚘𝚟𝙲𝚘𝚗𝚜𝚞𝚖𝚎𝚛𝚃𝚢𝚙𝚎**.\n",
    "\n",
    "<img style=\"float: center;\" src=\"HARK_struct_2.png\" width=\"200\" height=\"300\">\n",
    "\n",
    "\n",
    "To reflect this structure, we start with the most basic deterministic model in the Quickstart notebook and then proceed to the idiosyncratic consumers and then consumers with aggregate and idiosyncratic shocks. The exact order of the suggested tutorials is given in the table.\n",
    "\n",
    "|Number | Tutorial | Description|\n",
    "| :---- |  :---- |  :---- |\n",
    "|1 |[Quickstart](../notebooks/Quickstart_tutorial/Quick_start_with_solution.ipynb) |This tutorial familiarize you with the basic HARK objects and functionalities.<br /> You will learn how to create, solve, plot and simulate the deterministic<br /> microeconomic models (**PerfForesightConsumerType** class).|\n",
    "|2 |[Idiosyncratic consumers](../notebooks/IndShockConsumerType.ipynb) |In this tutorial you will learn how to deal<br /> with the microeconomic models with agents with idiosyncratic shocks:<br /> individual productivity shocks (**IndShockConsumerType** class).  It builds on the Quickstart. | \n",
    "|3|[Nondurables during great recession](../notebooks/Nondurables-During-Great-Recession.ipynb)| Use you knowledge about HARK to conduct a few economic experiments!<br /> You will examine the effects of the uncertinity increase on the heterogenous<br /> agents with idiosyncratic income risk.|\n",
    "|4|[Chinese-Growth](../notebooks/Chinese-Growth.ipynb.ipynb)|Learn how to dealt with models with idiosyncratic <br /> and aggregate risk (**𝙼𝚊𝚛𝚔𝚘𝚟𝙲𝚘𝚗𝚜𝚞𝚖𝚎𝚛𝚃𝚢𝚙𝚎** class). <br />Next build advanced simulation with many agent types.|\n"
   ]
  },
  {
   "cell_type": "markdown",
   "metadata": {},
   "source": [
    "## Supplementary tutorials\n",
    "\n",
    "The afore-mentioned four tutorials are the most essential ones. However, in HARK there are a few other classes, with similar but, not-the same structure as three basic ones. Here is a list of notebooks which familiarize you with them (if you wish so, as it is not required to understand the next topics).\n",
    "\n",
    "|Number | Tutorial | Description|\n",
    "| :---- |  :---- |  :---- |\n",
    "|1* |[Kinked consumer](../notebooks/KinkedRconsumerType.ipynb) | **KinkedConsumerType** is a subclass of **IndShockConsumerType**. <br /> In enables to set different borrowing and lending interest rate. |\n",
    "|2* |[Buffer-stock consumer](../notebooks/TractableBufferStockQuickDemo.ipynb) | In the Buffer Stock model, the unemployment state (zero income stat) is irreversible.<br /> This framework is implemented by **TractableConsumerType** class.<br /> For the analytical properties of buffer stock model check this [lecture notes](http://www.econ2.jhu.edu/people/ccarroll/public/LectureNotes/Consumption/TractableBufferStock/).| \n",
    "|3*|[Generalized income process](../notebooks/IndShockConsumerType.ipynb)| In **IndShockConsumerType** class, the idiosyncratic income shocks<br /> were assumed to be or purely permanent or purely transitory. In the similar class <br /> **PersistentShockConsumerType** the income shocks follows AR(1) process with parameter <1,<br /> thus there are not full permanent nor transitory <br />(it was called generalized income process).|\n",
    "\n"
   ]
  },
  {
   "cell_type": "markdown",
   "metadata": {},
   "source": [
    "# Market class\n",
    "\n",
    "HARK enables you also to build a general equilibrium model. "
   ]
  },
  {
   "cell_type": "markdown",
   "metadata": {},
   "source": [
    "# If you want to code your own model\n",
    "\n",
    "In the previous sections we showed how to solve different models in HARK. The necessary condition for the model to be created by HARK is it has to implemented in HARK. However, the majority of the standard models is implemented, it is not always the case.  \n",
    "\n",
    "Obviously, implementing your own solution, even using some well-written parts of the code is much more complicated tasks than just working with finished functions, and no tutorial will let you go through this painlessly. However, we hope that this part which elaborate a little the HARK structure, will help you with this task.   \n",
    "\n",
    "\n",
    "## A few more words on HARK structure \n",
    "\n",
    "\n"
   ]
  }
 ],
 "metadata": {
  "kernelspec": {
   "display_name": "Python 3",
   "language": "python",
   "name": "python3"
  },
  "language_info": {
   "codemirror_mode": {
    "name": "ipython",
    "version": 3
   },
   "file_extension": ".py",
   "mimetype": "text/x-python",
   "name": "python",
   "nbconvert_exporter": "python",
   "pygments_lexer": "ipython3",
   "version": "3.7.3"
  }
 },
 "nbformat": 4,
 "nbformat_minor": 2
}
