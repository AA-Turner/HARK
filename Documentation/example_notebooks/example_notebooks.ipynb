{
 "cells": [
  {
   "cell_type": "markdown",
   "id": "73641a3e-52e7-4f4e-acd9-1c415648fe50",
   "metadata": {},
   "source": [
    "# Example Notebooks\n",
    "This notebook is a list of example notebooks which give a first glance of what HARK is all about: Solving heterogeneous agent models numerically. First time users are welcome to go over (some of) them to explore the usefulness of this toolkit.\n",
    "\n",
    "If you completed this list, there is much more to explore in [DEMARK](https://github.com/econ-ark/DemARK) and [REMARK](https://github.com/econ-ark/REMARK). The former contains similar notebooks like these and tries to DEMonstrate useful Agent types, models, and tools. The latter shows REplications of important papers in the literature.\n",
    "\n",
    "Haven't found your specific problem? No problem! Get in touch with us and contribute to this list!"
   ]
  },
  {
   "cell_type": "markdown",
   "id": "1ed7cbed-5e60-47eb-a7a2-79568d32f913",
   "metadata": {},
   "source": [
    "## [A Gentle Introduction to HARK](../../examples/Gentle-Intro/Gentle-Intro-To-HARK.ipynb)"
   ]
  },
  {
   "cell_type": "markdown",
   "id": "e18ac336-0bdf-4cb6-81a2-d28d1226d7b2",
   "metadata": {},
   "source": [
    "A simple hands-on notebook for first time HARK users."
   ]
  },
  {
   "cell_type": "markdown",
   "id": "d85af83e-fb49-4d00-bcdc-b21ffb25b4df",
   "metadata": {},
   "source": [
    "## [Perfect Foresight Consumer](../../examples/ConsIndShockModel/PerfForesightConsumerType.ipynb)"
   ]
  },
  {
   "cell_type": "markdown",
   "id": "07203762-f092-4ac7-9e37-3466a0a0fc74",
   "metadata": {},
   "source": [
    "An introduction of the perfect foresight consumer who faces no uncertainty."
   ]
  },
  {
   "cell_type": "markdown",
   "id": "5e16eaff-a7e8-4538-aeea-6291fdf5e481",
   "metadata": {},
   "source": [
    "## [IndShockConsumerType](../../examples/ConsIndShockModel/IndShockConsumerType.ipynb) and [How we solve it](../../examples/HowWeSolveIndShockConsumerType/HowWeSolveIndShockConsumerType.ipynb)"
   ]
  },
  {
   "cell_type": "markdown",
   "id": "62ea9b1b-cf95-43fd-80cb-9ce8d50841d5",
   "metadata": {},
   "source": [
    "A consumer type who faces indiosyncratic labor shocks. This is the workhorse model as many consumertypes inherit from this class."
   ]
  },
  {
   "cell_type": "markdown",
   "id": "94e49c3d-8f61-4f22-a066-06ba3bda54ab",
   "metadata": {},
   "source": [
    "## [KinkedRConsumerType](../../examples/ConsIndShockModel/KinkedRconsumerType.ipynb)"
   ]
  },
  {
   "cell_type": "markdown",
   "id": "b42fb4d3-b00b-4a99-a6ca-0b6ea63796b1",
   "metadata": {},
   "source": [
    "Consumption-saving model with idiosyncratic income shocks and different interest rates on borrowing and saving"
   ]
  },
  {
   "cell_type": "markdown",
   "id": "8ffb6bec-2cd8-4ae3-8313-90c5ed75020b",
   "metadata": {},
   "source": [
    "## [ConsPortfolioModel](../../examples/ConsPortfolioModel/example_ConsPortfolioModel.ipynb)"
   ]
  },
  {
   "cell_type": "markdown",
   "id": "e315f6b5-4212-455c-a5c6-2bec2a8f5948",
   "metadata": {},
   "source": [
    "A consumption-savings model with risky assets."
   ]
  },
  {
   "cell_type": "markdown",
   "id": "b28a362e-0b3d-4dcf-869f-a0656935a81e",
   "metadata": {},
   "source": [
    "## [Permanent versus Persistent Income Shocks](../../examples/GenIncProcessModel/GenIncProcessModel.ipynb)"
   ]
  },
  {
   "cell_type": "markdown",
   "id": "03c28738-4956-4f82-9a7b-61a9ddeec1ad",
   "metadata": {},
   "source": [
    "The GenIncProcessModel..."
   ]
  },
  {
   "cell_type": "markdown",
   "id": "bf9c6305-b78c-424f-a8f0-4687d37f4842",
   "metadata": {},
   "source": [
    "## [The Distribution of Assets By Age](../../examples/LifecycleModel/LifecycleModel.ipynb)"
   ]
  },
  {
   "cell_type": "markdown",
   "id": "1f7f8917-c415-408e-b547-1ec109bb6a5f",
   "metadata": {},
   "source": [
    "A Lifecycle model"
   ]
  },
  {
   "cell_type": "markdown",
   "id": "e0d9bf7b-fe09-4310-a7ac-c5a91a15aa0f",
   "metadata": {},
   "source": [
    "## [Journey 1: 1st year PhD student](../../examples/Journeys/Journey_1_PhD.ipynb)"
   ]
  },
  {
   "cell_type": "code",
   "execution_count": null,
   "id": "c180bb1a-68c6-47ba-9a41-7dbc64e816b3",
   "metadata": {},
   "outputs": [],
   "source": []
  }
 ],
 "metadata": {
  "kernelspec": {
   "display_name": "Python 3 (ipykernel)",
   "language": "python",
   "name": "python3"
  },
  "language_info": {
   "codemirror_mode": {
    "name": "ipython",
    "version": 3
   },
   "file_extension": ".py",
   "mimetype": "text/x-python",
   "name": "python",
   "nbconvert_exporter": "python",
   "pygments_lexer": "ipython3",
   "version": "3.8.11"
  }
 },
 "nbformat": 4,
 "nbformat_minor": 5
}
