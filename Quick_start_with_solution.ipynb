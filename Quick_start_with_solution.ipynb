{
 "cells": [
  {
   "cell_type": "markdown",
   "metadata": {},
   "source": [
    "Quickstart tutorial\n",
    "======\n",
    "\n",
    "## Summary\n",
    "\n",
    "This notebook provides the basics of the microeconomic, agent-type class which is fundamental for HARK.\n",
    "\n",
    "____\n",
    "### Structure:\n",
    "\n",
    "- **Part 1**: basics of the perfect-foresight agent model\n",
    "- **Part 2**: more advanced methods for the perfect-foresight agent model\n",
    "- **Part 3**: basics of the idiosyncratic income shocks agent model\n",
    "\n",
    "### Learning outcomes:\n",
    "- **Part 1**:\n",
    "    - Learn how to declare basic agent-type objects\n",
    "    - Learn solution methods for the agent-type objects\n",
    "    - Plot value function and consumption function\n",
    "    - Learn how to simulate the agent-type objects\n",
    "    - Plot value function\n",
    "- **Part 2**:\n",
    "    - Learn how to build life-cycle models\n",
    "    - Learn more advanced simulation techniques\n",
    "    - Learn advanced plots\n",
    "____\n",
    "## Introduction to the consumer problem\n",
    "\n",
    "HARK AGentType classes were designed to solve the consumer problem. \n",
    "\n",
    "In the most basic formulation, the consumer problem is given as follows. The consumer lives T+1 periods (T $\\leq \\infty$) and during hers lifetime receive the same income $Y$. In each period t (0\\leq t\\leq T)  she can spent it on the consumption $C_t$ or invest $A_t$ with a risk free interest rate R. She maximize the lifetime utility, by solving the following Bellman equation defined on the \"cash in hand\" state space $M_t = C_t +A_t$:   \n",
    "\n",
    "For $t<T+1$\n",
    "\\begin{eqnarray*}\n",
    "V_t(M_t) &=& \\max_{C_t} U(C_t) + \\beta V_{t+1}(M_{t+1}), \\\\\n",
    "& s.t. & \\\\\n",
    "A_t &=& M_t - C_t, \\\\\n",
    "M_{t+1} &=& R (M_{t}-C_{t}) + Y, \\\\\n",
    "\\end{eqnarray*}\n",
    "for $t \\geq T+1$\n",
    "\\begin{eqnarray*}\n",
    "V_t(M_t) &=& 0\n",
    "\\end{eqnarray*}\n",
    "\n",
    "Where $\\beta <1 $ is a discount factor and $U(C)$ is a standard CRRA utility function:\n",
    "$$\n",
    "U(C)=\\frac{C^{1-\\rho}}{1-\\rho}\n",
    "$$\n"
   ]
  },
  {
   "cell_type": "markdown",
   "metadata": {},
   "source": [
    "## Why start with perfect foresight model: HARK class structure\n",
    "<img style=\"float: right;\" src=\"HARK_diagram.png\" width=\"200\" height=\"300\">\n",
    "\n",
    "Obviously, HARK was designed to solve much more complicated consumer problems. However, it was written in the object programing paradigma (OPP). Thus, the class designed to solve such basic problem: **PerfForesightConsumerType** is then a foundation (parent/subclass in the OPP language) for the more advanced classes with the heterogeneous agents. In the diagram you can observe the inheritance between some of the HARK Agent-type classes:   \n",
    "\n",
    "\n",
    "As you can observe, the **AgentType** superclass is the most general; type of framework for the microeconomic models implemented in HARK. The child/subclass of **AgentType** is **PerfForesightConsumerType**, for which you need to define parameters (**attributes** in OPP): $T$, $\\beta$... Next, there are classes with the heterogeneous agents for which you need to *additionally* define parameters of the income process/ aggregate shocks etc. Moreover, **methods** (thus the way how the object is created, how the solution is presented)of the subclasses are a the same or modified methods of the parent class.\n",
    "\n",
    "Therefore, to master the basics of HARK microclass you firstly need to understand **PerfForesightConsumerType** class. Consequently, this tutorial firstly show how to deal with it, however the majority of the presented methods is general for the HARK agent-type objects (though it may involve assigning more parameters). In the last sections, the class **IndShockConsumerType** with idiosyncratic income shocks will be presented.  \n"
   ]
  },
  {
   "cell_type": "markdown",
   "metadata": {},
   "source": [
    "# Part I: Basics of the perfect foresight model\n",
    "\n",
    "In this part, you learn basics of the perfect foresight model. We will solve the example of the consumer problem presented in the introduction. "
   ]
  },
  {
   "cell_type": "markdown",
   "metadata": {},
   "source": [
    "## Getting started\n",
    "Firsty, you need to import HARK and a few additional libraries. Importantly, to use PerfForesightConsumerType you also need to import HARK.ConsumptionSaving.ConsIndShockModel sublibrary. "
   ]
  },
  {
   "cell_type": "code",
   "execution_count": 1,
   "metadata": {},
   "outputs": [],
   "source": [
    "import matplotlib.pyplot as plt\n",
    "import numpy as np\n",
    "import HARK \n",
    "\n",
    "from copy import deepcopy\n",
    "from HARK.ConsumptionSaving.ConsIndShockModel import *\n",
    "from HARK.utilities import plotFuncsDer, plotFuncs              "
   ]
  },
  {
   "cell_type": "markdown",
   "metadata": {},
   "source": [
    "## Agent-type object creation \n",
    "The most basic way of creating HARK object is to call constructor (in OPP method which create the object, called by the class name). \n",
    "\n",
    "For **PerfForesightConsumerType** we need to set:\n",
    "- $T+1$: a consumer's lifespan, called **cycles** in the code, if $T= \\infty$, set **cycles**=0.  \n",
    "- $\\beta$: a discount factor, **DiscFac** in the code.\n",
    "- $\\rho$: CRRA utility function parameter, **CRRA** in the code.  \n",
    "\n",
    "Additionally, you need to define two parameters which does not occur in the presented example, however can be useful:\n",
    "\n",
    "- Probability of surviving to the next period, called **LivPrb** in the code. \n",
    "- Income $Y$ growth factor, **PermGroFac** in the code.\n",
    "\n",
    "We call our first HARK object **Example_agent_1** and set the example values of the parameters.  "
   ]
  },
  {
   "cell_type": "code",
   "execution_count": 2,
   "metadata": {},
   "outputs": [],
   "source": [
    "Example_agent_1 = PerfForesightConsumerType(cycles=0,\n",
    "\n",
    "CRRA = 2.0, Rfree = 1.03, DiscFac = 0.99,\n",
    "\n",
    "LivPrb = 1.0,\n",
    "\n",
    "PermGroFac = 1.0)\n"
   ]
  },
  {
   "cell_type": "markdown",
   "metadata": {},
   "source": [
    "Because we did not assume growth in 𝑌 or survival  uncertainty , we set these values to 1."
   ]
  },
  {
   "cell_type": "markdown",
   "metadata": {},
   "source": [
    "The second method involves creating a **dictionary**: a list of parameters' names and values. Here we define the dictionary with the same values as in the first example.   "
   ]
  },
  {
   "cell_type": "code",
   "execution_count": 3,
   "metadata": {},
   "outputs": [],
   "source": [
    "First_dictionary = {\n",
    "    'CRRA' : 2.0,\n",
    "    'DiscFac' : 0.99,\n",
    "    'Rfree' : 1.03,\n",
    "    'cycles' : 0,\n",
    "    'LivPrb' : [1.00],\n",
    "    'PermGroFac' : [1.00],\n",
    "}"
   ]
  },
  {
   "cell_type": "markdown",
   "metadata": {},
   "source": [
    "To create object with a dictionary, use the constructor with the previously defined dictionary as an argument: \n"
   ]
  },
  {
   "cell_type": "code",
   "execution_count": 4,
   "metadata": {},
   "outputs": [],
   "source": [
    "Example_agent_2 = PerfForesightConsumerType(**First_dictionary)"
   ]
  },
  {
   "cell_type": "markdown",
   "metadata": {},
   "source": [
    "Although, the first method is easier, we recommend to define a dictionary every time when you create an HARK object. Firstly, it makes your code cleaner. Secondly, it enables you to create multiple objects with the same dictionary (what will be important when it comes to creating a macro classes). \n"
   ]
  },
  {
   "cell_type": "markdown",
   "metadata": {},
   "source": [
    "The presented here methods work also for the more sophisticated HARK object (however you will need to specify more parameters). "
   ]
  },
  {
   "cell_type": "markdown",
   "metadata": {},
   "source": [
    "### Creating agent-type object by copy\n",
    "\n",
    "Once creating agent-type object, you can use its set of parameters to create another. To do so you need to use **deepcopy** method from copy package.   "
   ]
  },
  {
   "cell_type": "code",
   "execution_count": 5,
   "metadata": {},
   "outputs": [],
   "source": [
    "Example_agent_3 = deepcopy(Example_agent_2)"
   ]
  },
  {
   "cell_type": "markdown",
   "metadata": {},
   "source": [
    "**Do not** use an assignment operator (=) because it does not create new object. For example a command: "
   ]
  },
  {
   "cell_type": "code",
   "execution_count": 6,
   "metadata": {},
   "outputs": [],
   "source": [
    "Example_agent_4 = Example_agent_2"
   ]
  },
  {
   "cell_type": "markdown",
   "metadata": {},
   "source": [
    "does not create a new object, it only gives a new name to the object Example_agent_2 (this object simply gets two names: Example_agent_2, Example_agent_4)"
   ]
  },
  {
   "cell_type": "markdown",
   "metadata": {},
   "source": [
    "### Modifying   parameter values \n",
    "\n",
    "You can easily change the parameter value of the object by \".\" operator. \n",
    "\n",
    "For example, to change the discount factor value of the object created in the previous subsection:\n"
   ]
  },
  {
   "cell_type": "code",
   "execution_count": 7,
   "metadata": {},
   "outputs": [],
   "source": [
    "Example_agent_3.DiscFac = 0.95"
   ]
  },
  {
   "cell_type": "markdown",
   "metadata": {},
   "source": [
    "## Solving an agent-type problems\n",
    "\n",
    "To solve agent type problem presented in the example, you need to find a **value function** from the Bellman equations and **the policy functions**. In our case, the only policy function is a consumption function: a function that for each age t and cash-in-hand $M_t$, specify the optimal consumption level: $c_t(M_t)$.\n",
    "\n",
    "To solve a model in HARK, you need to use **solve** method. For example if we want to solve the model with parameters of the object Example_agent_2: \n"
   ]
  },
  {
   "cell_type": "code",
   "execution_count": 8,
   "metadata": {},
   "outputs": [],
   "source": [
    "Example_agent_2.solve()\n"
   ]
  },
  {
   "cell_type": "markdown",
   "metadata": {},
   "source": [
    "### Solution elements\n",
    "\n",
    "Solve method finds value function and consumption function for each period t of the consumer's life (in case of the infinite T, it specify only one set of functions, because all the parameters are stable and lifespan is always infinite, the functions are the same, no matter of t). Besides consumption and value functions, solve method create also a few attributes, the most important is minimal cash-in-hand value for which the problem has a solution. \n",
    "\n",
    "The exact name of these attributes in HARK are:\n",
    "\n",
    "- vFunc: value function\n",
    "- cFunc: consumption function\n",
    "- mNrmMin: Minimum value of $M_t$ such that cFunc and vFunc are defined.\n",
    "\n",
    "To get an access to the value/consumption function you need to specify the period t and the object name, using two times . operator. So to get access to the value function, consumption function and mNrmMin for the solved example:\n",
    "\n"
   ]
  },
  {
   "cell_type": "code",
   "execution_count": 9,
   "metadata": {},
   "outputs": [
    {
     "data": {
      "text/plain": [
       "-33.33330059492335"
      ]
     },
     "execution_count": 9,
     "metadata": {},
     "output_type": "execute_result"
    }
   ],
   "source": [
    "Example_agent_2.solution[0].vFunc\n",
    "Example_agent_2.solution[0].cFunc\n",
    "Example_agent_2.solution[0].mNrmMin\n"
   ]
  },
  {
   "cell_type": "markdown",
   "metadata": {},
   "source": [
    "As you can see, only mNrmMin can be printed as a value. However, value and consumption functions can be plotted.\n"
   ]
  },
  {
   "cell_type": "markdown",
   "metadata": {},
   "source": [
    "### Ploting the solution\n",
    "\n",
    "After **solve** method is used, the value and policy functions can be plotted. HARK dedicated function for doing so is **plotFuncs**. As an arguments you need to give a function from the solution (possible a few functions) and the limits of interval for which you want to make a plot. \n",
    "\n",
    "For example, we can plot consumption and value functions on the interval from mNrmMin to -mNrmMin.\n"
   ]
  },
  {
   "cell_type": "code",
   "execution_count": 10,
   "metadata": {},
   "outputs": [
    {
     "name": "stdout",
     "output_type": "stream",
     "text": [
      "Consumption function\n"
     ]
    },
    {
     "data": {
      "image/png": "[encoded data removed]",
      "text/plain": [
       "<Figure size 432x288 with 1 Axes>"
      ]
     },
     "metadata": {
      "needs_background": "light"
     },
     "output_type": "display_data"
    },
    {
     "name": "stdout",
     "output_type": "stream",
     "text": [
      "Value function\n"
     ]
    },
    {
     "name": "stderr",
     "output_type": "stream",
     "text": [
      "c:\\users\\janro\\desktop\\econark_work\\econ-ark\\lib\\site-packages\\HARK\\utilities.py:141: RuntimeWarning: divide by zero encountered in reciprocal\n",
      "  return( c**(1.0 - gam) / (1.0 - gam) )\n"
     ]
    },
    {
     "data": {
      "image/png": "[encoded data removed]",
      "text/plain": [
       "<Figure size 432x288 with 1 Axes>"
      ]
     },
     "metadata": {
      "needs_background": "light"
     },
     "output_type": "display_data"
    }
   ],
   "source": [
    "min_v = Example_agent_2.solution[0].mNrmMin\n",
    "max_v = -Example_agent_2.solution[0].mNrmMin\n",
    "print(\"Consumption function\")\n",
    "plotFuncs([Example_agent_2.solution[0].cFunc],min_v,max_v)\n",
    "print(\"Value function\")\n",
    "plotFuncs([Example_agent_2.solution[0].vFunc],min_v,max_v)"
   ]
  },
  {
   "cell_type": "markdown",
   "metadata": {},
   "source": [
    "## Simulation\n",
    "\n",
    "Next step is to simulate the the agent behavior. To do so, you firstly need to set a few parameters for the sake of the simulation:\n",
    "\n",
    "- **AgentCount**: number of simulated agents\n",
    "- **T_cycle**: logical parameter which govern the time flow during the simulation (if it is moving forward or backward)\n",
    "- **T_sim**: number of simulation periods\n",
    "- **T_age**: Age after which simulated agents are automatically killed\n",
    "\n",
    "Moreover, HARK enables to simulate model with the log-normal distributions of the initial assets and incomes. You need to set the parameters:\n",
    "\n",
    "- **aNrmInitMean**: Mean of log initial assets\n",
    "- **aNrmInitStd**: Standard deviation of log initial assets\n",
    "- **pLvlInitMean**: Mean of log initial permanent income\n",
    "- **pLvlInitStd**: Standard deviation of log initial permanent income\n",
    "\n",
    "Lastly, using HARK agent type class, you can also set the aggregate income increase (so the rate of the income increase common to all agents). You set then a parameter:\n",
    "\n",
    "- **PermGroFacAgg**: Aggregate permanent income growth factor\n",
    "\n",
    "In our example, we simulate 1 agent, as it is a representative agent model. A time flow is chronological, there is no initial heterogeneity  , thus std of the initial assets and income distributions are set to 0. The initial assets and income are set to 1.0. There is no aggregate income increase, so we set income growth factor to 1. We simulate 1000 periods,and assume infinitely lived agent. \n",
    "\n",
    "To declare this parameters values, we create a new dictionary:  "
   ]
  },
  {
   "cell_type": "code",
   "execution_count": 11,
   "metadata": {},
   "outputs": [],
   "source": [
    "Simulation_dictionary = {  'AgentCount': 1,\n",
    "                           'aNrmInitMean' : 0.0,\n",
    "                           'aNrmInitStd' : 0.0,\n",
    "                           'pLvlInitMean' : 0.0,\n",
    "                           'pLvlInitStd' : 0.0,\n",
    "                           'PermGroFacAgg' : 1.0,\n",
    "                           'T_cycle' : 1,\n",
    "                           'T_sim' : 1000,\n",
    "                           'T_age' : None  \n",
    "                          }\n"
   ]
  },
  {
   "cell_type": "markdown",
   "metadata": {},
   "source": [
    "Next, you need to update the object. To do so we use **setattr** function, which add parameter's values to the object."
   ]
  },
  {
   "cell_type": "code",
   "execution_count": 12,
   "metadata": {},
   "outputs": [],
   "source": [
    "for key,value in Simulation_dictionary.items():\n",
    "    setattr(Example_agent_2,key,value)"
   ]
  },
  {
   "cell_type": "markdown",
   "metadata": {},
   "source": [
    "Finally, you can start our simulation. Firstly, you need to decide which variables you want to track, we choose an assets level and consumption level, in code they are called: **aNrmNow** and **cNrmNow**. Next, you need to initialize the simulation by **initializeSim** method. Lastly, run the simulation by **simulate()** method. "
   ]
  },
  {
   "cell_type": "code",
   "execution_count": 13,
   "metadata": {},
   "outputs": [],
   "source": [
    "Example_agent_2.track_vars = ['aNrmNow','cNrmNow']\n",
    "Example_agent_2.initializeSim()\n",
    "Example_agent_2.simulate()"
   ]
  },
  {
   "cell_type": "markdown",
   "metadata": {},
   "source": [
    "## Plotting the simulation\n",
    "\n",
    "Plotting the simulation is a little bit more complicated than plotting the solution, as you cannot use a dedicated function. Instead, use **matplot** library. \n",
    "\n",
    "To see the the consumption and asset history, use objects created by simulation, which contains history of every agent, in each of the simulation periods. They are call the same as the tracked variables with a \\_hist ending. Thus the history of assets and consumption are called **aNrmNow_hist** and **cNrmNow_hist**. \n",
    "\n",
    "Let's make a plot of the assets level and consumption level during the simulated periods. Firstly, define the vectors of mean assets and consumption. Here, there is only one consumer, so we do not need to use mean function, which we write here. However, if you want to plot mean asset/consumption level for many agents, you need to use this method. "
   ]
  },
  {
   "cell_type": "code",
   "execution_count": 14,
   "metadata": {},
   "outputs": [
    {
     "data": {
      "image/png": "[encoded data removed]",
      "text/plain": [
       "<Figure size 360x360 with 1 Axes>"
      ]
     },
     "metadata": {
      "needs_background": "light"
     },
     "output_type": "display_data"
    }
   ],
   "source": [
    "periods= np.linspace(0,1000,1000)\n",
    "asset_level = np.mean(Example_agent_2.aNrmNow_hist[0:1000], axis = 1)\n",
    "cons_level = np.mean(Example_agent_2.cNrmNow_hist[0:1000], axis = 1)\n",
    "\n",
    "plt.figure(figsize=(5,5))\n",
    "plt.plot(periods,asset_level,label='Assets level')\n",
    "plt.plot(periods,cons_level,label='Consumption level')\n",
    "plt.legend(loc=2)\n",
    "plt.show()\n",
    "\n"
   ]
  },
  {
   "cell_type": "markdown",
   "metadata": {},
   "source": [
    "Now, let's plot the mean asset and consumption increase: "
   ]
  },
  {
   "cell_type": "code",
   "execution_count": 15,
   "metadata": {},
   "outputs": [
    {
     "data": {
      "image/png": "[encoded data removed]",
      "text/plain": [
       "<Figure size 360x360 with 1 Axes>"
      ]
     },
     "metadata": {
      "needs_background": "light"
     },
     "output_type": "display_data"
    }
   ],
   "source": [
    "increase_assets = asset_level[1:1000]/asset_level[0:999] \n",
    "increase_cons = cons_level[1:1000]/cons_level[0:999] \n",
    "plt.figure(figsize=(5,5))\n",
    "plt.plot(periods[1:1000],increase_assets, label='Assets increase' )\n",
    "plt.plot(periods[1:1000],increase_cons,label='Consumption increase')\n",
    "plt.legend(loc=2)\n",
    "plt.show()"
   ]
  },
  {
   "cell_type": "markdown",
   "metadata": {},
   "source": [
    "## Exercise\n",
    "\n",
    "Congratulations! You've just learned the basics of the agent-type class in HARK. It is time for some exercises:\n",
    "\n",
    "### Exercise 1: create the agent-type object\n",
    "\n",
    "Define a dictionary and then use it to create the agent-type object with the parameters:\n",
    "\n",
    "- $\\beta = 0.96$\n",
    "- $\\rho = 2.0$\n",
    "- $T = \\infty$\n",
    "- Risk free interest rate $R= 1.05$\n",
    "Assume no survival uncertainty  and income growth factor 1.01\n",
    "\n",
    "    "
   ]
  },
  {
   "cell_type": "code",
   "execution_count": 16,
   "metadata": {},
   "outputs": [],
   "source": [
    "#Write your solution here\n",
    "\n",
    "# fill the dictionary and then use it to create the object\n",
    "\n",
    "#First_dictionary = {\n",
    "#    'CRRA' : ,\n",
    "#    'DiscFac' : ,\n",
    "#    'Rfree' : ,\n",
    "#    'cycles' : ,\n",
    "#    'LivPrb' : [],\n",
    "#    'PermGroFac' : [],\n",
    "#}\n",
    "#Exercise_agent = "
   ]
  },
  {
   "cell_type": "code",
   "execution_count": 17,
   "metadata": {
    "solution": "hidden",
    "solution2": "hidden",
    "solution2_first": true,
    "solution_first": true
   },
   "outputs": [],
   "source": [
    "#Solution\n",
    "First_dictionary = {\n",
    "    'CRRA' : 2.0,\n",
    "    'DiscFac' : 0.96,\n",
    "    'Rfree' : 1.05,\n",
    "    'cycles' : 0,\n",
    "    'LivPrb' : [1.0],\n",
    "    'PermGroFac' : [1.0],\n",
    "}\n",
    "Exercise_agent = PerfForesightConsumerType(**First_dictionary)"
   ]
  },
  {
   "cell_type": "markdown",
   "metadata": {
    "solution2": "shown",
    "solution2_first": true
   },
   "source": [
    "### Exercise 2: Solve the model and plot the value function\n",
    "\n"
   ]
  },
  {
   "cell_type": "code",
   "execution_count": 18,
   "metadata": {
    "solution": "shown"
   },
   "outputs": [],
   "source": [
    "#Write your solution here, use methods from \"solving the model\" subsection"
   ]
  },
  {
   "cell_type": "code",
   "execution_count": 19,
   "metadata": {
    "solution": "hidden",
    "solution2": "hidden",
    "solution2_first": true,
    "solution_first": true
   },
   "outputs": [
    {
     "name": "stdout",
     "output_type": "stream",
     "text": [
      "Value function\n"
     ]
    },
    {
     "data": {
      "image/png": "[encoded data removed]",
      "text/plain": [
       "<Figure size 432x288 with 1 Axes>"
      ]
     },
     "metadata": {
      "needs_background": "light"
     },
     "output_type": "display_data"
    }
   ],
   "source": [
    "#Solution\n",
    "Exercise_agent.solve()\n",
    "\n",
    "min_v = Exercise_agent.solution[0].mNrmMin\n",
    "max_v = -Exercise_agent.solution[0].mNrmMin\n",
    "print(\"Value function\")\n",
    "plotFuncs([Exercise_agent.solution[0].vFunc],min_v,max_v)"
   ]
  },
  {
   "cell_type": "markdown",
   "metadata": {},
   "source": [
    "### Exercise 3: Prepare the simulation\n",
    "\n",
    "Next prepare the simulation. Assume that **there exsists the initial assets and income heterogenity**. Assume, the initial income and assets distributions are log-normal, have mean 1 and std =1. Simulate 1000 agents for 1000 periods.   \n",
    "\n",
    "Add the new parameters to the object:"
   ]
  },
  {
   "cell_type": "code",
   "execution_count": 20,
   "metadata": {},
   "outputs": [],
   "source": [
    "#Write your solution here. \n",
    "\n",
    "#Fill the dictionary\n",
    "#Simulation_dictionary = {  'AgentCount': ,\n",
    "#                           'aNrmInitMean' : ,\n",
    "#                           'aNrmInitStd' : ,\n",
    "#                           'pLvlInitMean' : ,\n",
    "#                           'pLvlInitStd' : ,\n",
    "#                           'PermGroFacAgg' : 1.0, #assume no income aggregate growth\n",
    "#                           'T_cycle' : 1, #assume forward time flow\n",
    "#                           'T_sim' : , \n",
    "#                           'T_age' : None #assume immortal agents  \n",
    "#                          }\n",
    "\n",
    "#for key,value in Simulation_dictionary.items():\n",
    "#    setattr(Exercise_agent,key,value)\n"
   ]
  },
  {
   "cell_type": "code",
   "execution_count": 21,
   "metadata": {
    "solution": "hidden",
    "solution2": "hidden",
    "solution2_first": true,
    "solution_first": true
   },
   "outputs": [],
   "source": [
    "#Solution\n",
    "Simulation_dictionary = {  'AgentCount': 1000,\n",
    "                           'aNrmInitMean' : 0.0,\n",
    "                           'aNrmInitStd' : 1.0,\n",
    "                           'pLvlInitMean' : 0.0,\n",
    "                           'pLvlInitStd' : 1.0,\n",
    "                           'PermGroFacAgg' : 1.0,\n",
    "                           'T_cycle' : 1,\n",
    "                           'T_sim' : 1000,\n",
    "                           'T_age' : None  \n",
    "                          }\n",
    "\n",
    "for key,value in Simulation_dictionary.items():\n",
    "    setattr(Exercise_agent,key,value)"
   ]
  },
  {
   "cell_type": "markdown",
   "metadata": {},
   "source": [
    "### Exercise 4: SImulate \n",
    "\n"
   ]
  },
  {
   "cell_type": "code",
   "execution_count": 22,
   "metadata": {},
   "outputs": [],
   "source": [
    "#Write your solution here. Use the commands from \"simulation\" subsection, track consumption values\n"
   ]
  },
  {
   "cell_type": "code",
   "execution_count": 23,
   "metadata": {
    "solution": "hidden",
    "solution_first": true
   },
   "outputs": [],
   "source": [
    "#Solution\n",
    "Exercise_agent.track_vars = ['aNrmNow','cNrmNow']\n",
    "Exercise_agent.initializeSim()\n",
    "Exercise_agent.simulate()"
   ]
  },
  {
   "cell_type": "markdown",
   "metadata": {},
   "source": [
    "### Exercise 5: Plot the simulations\n",
    "\n",
    "Plot mean consumption level and consumption increase: "
   ]
  },
  {
   "cell_type": "code",
   "execution_count": 24,
   "metadata": {},
   "outputs": [],
   "source": [
    "#Write your solution here.\n",
    "\n",
    "#Firstly prepare the vectors which you would like to plot:\n",
    "#periods= np.linspace(0,1000,1000)\n",
    "#cons_level = np.mean(Exercise_agent.cNrmNow_hist[0:1000], axis = 1)\n",
    "#increase_cons = cons_level[1:1000]/cons_level[0:999] \n",
    "\n",
    "#next plot your solution\n"
   ]
  },
  {
   "cell_type": "code",
   "execution_count": 25,
   "metadata": {
    "solution": "shown",
    "solution2": "hidden",
    "solution2_first": true,
    "solution_first": true
   },
   "outputs": [
    {
     "data": {
      "image/png": "[encoded data removed]",
      "text/plain": [
       "<Figure size 360x360 with 1 Axes>"
      ]
     },
     "metadata": {
      "needs_background": "light"
     },
     "output_type": "display_data"
    },
    {
     "data": {
      "image/png": "[encoded data removed]",
      "text/plain": [
       "<Figure size 360x360 with 1 Axes>"
      ]
     },
     "metadata": {
      "needs_background": "light"
     },
     "output_type": "display_data"
    }
   ],
   "source": [
    "#Solution\n",
    "periods= np.linspace(0,1000,1000)\n",
    "cons_level = np.mean(Exercise_agent.cNrmNow_hist[0:1000], axis = 1)\n",
    "increase_cons = cons_level[1:1000]/cons_level[0:999]\n",
    "\n",
    "plt.figure(figsize=(5,5))\n",
    "plt.plot(periods,cons_level,label='Consumption level')\n",
    "plt.legend(loc=2)\n",
    "plt.show()\n",
    "\n",
    "plt.figure(figsize=(5,5))\n",
    "plt.plot(periods[1:1000],increase_cons,label='Consumption increase')\n",
    "plt.legend(loc=2)\n",
    "plt.show()\n"
   ]
  },
  {
   "cell_type": "markdown",
   "metadata": {},
   "source": [
    "# PART II: advanced methods for the perfect foresight agent\n",
    "\n",
    "In this part we focus on more complicated cases of the deterministic agent model.\n",
    "\n",
    "In the previous example survival probability (in the code **LivPrb**) and income increase factor (in the code **PermGroFac**) were stable and set to 1. However, if you want to build deterministic life-cycle model you need to add a age-dependent survival probability or income growth. Consumer problem in this setting is:\n",
    "\\begin{eqnarray*}\n",
    "V_t(M_t,Y_t) &=& \\max_{C_t}~U(C_t) + \\beta \\pi_t V_{t+1}(M_{t+1},Y_{t+1}), \\\\\n",
    "& s.t. & \\\\\n",
    "%A_t &=& M_t - C_t, \\\\\n",
    "M_{t+1} &=& R (M_{t}-C_{t}) + Y_{t+1}, \\\\\n",
    "Y_{t+1} &=& \\Gamma_{t+1} Y_t, \\\\\n",
    "\\end{eqnarray*}\n",
    "\n",
    "Where $Y_t$ is an age-dependent income, $\\pi_t$ is a survival  probability and $\\Gamma_{t+1}$ is an income growth rate. Also $\\pi_{T+1} =0$ \n",
    "\n",
    "To solve this problem we need to study **cycles** parameter more carefully.\n"
   ]
  },
  {
   "cell_type": "markdown",
   "metadata": {},
   "source": [
    "## Cycles and time-dependent parameters \n",
    "\n",
    "**cycles** parameter has more general usage than it was presented in the previous example. In general it tells HARK **how many times the one period consumer's problem need to be solved with the given set of time-changing paramters**. In our microeconomic case these parameters are **LivPrb** and **PermGroFac**, as the discount factor, the CRRA parameter and risk free interest rate are assumed to be stable.   \n",
    "\n",
    "For the life cycle model, **the survival probabilities and income growth rates are different in each period** and consumer **never faces the same parameter's combination**. Thus in the HARK implementation, you need to set cycles = 1. To set the length    of the lifespan, you simply need to specify the survival probabilities and the income growth vectors, with T+1 non-zero values.      \n",
    "\n",
    "For example, we create an agent-type object with with maximal lifespan set to 11, and decreasing survival probability and inverse u-shaped income dynamics:"
   ]
  },
  {
   "cell_type": "code",
   "execution_count": 26,
   "metadata": {
    "solution": "hidden"
   },
   "outputs": [],
   "source": [
    "LifeCycle_dictionary = {\n",
    "    'CRRA' : 2.0,\n",
    "    'Rfree' : 1.03,\n",
    "    'DiscFac' : 0.96,\n",
    "    'LivPrb' : [0.99,0.98,0.97,0.96,0.95,0.94,0.93,0.92,0.91,0.90],\n",
    "    'PermGroFac' : [1.01,1.01,1.01,1.02,1.02,1.03,1.02,0.99,0.98,0.96],\n",
    "    'cycles' : 1,\n",
    "}\n",
    "\n",
    "LC_agent = PerfForesightConsumerType(**LifeCycle_dictionary)\n",
    "\n"
   ]
  }
 ],
 "metadata": {
  "kernelspec": {
   "display_name": "Python 3",
   "language": "python",
   "name": "python3"
  },
  "language_info": {
   "codemirror_mode": {
    "name": "ipython",
    "version": 3
   },
   "file_extension": ".py",
   "mimetype": "text/x-python",
   "name": "python",
   "nbconvert_exporter": "python",
   "pygments_lexer": "ipython3",
   "version": "3.7.3"
  }
 },
 "nbformat": 4,
 "nbformat_minor": 2
}
