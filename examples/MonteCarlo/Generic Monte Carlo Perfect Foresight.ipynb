{
 "cells": [
  {
   "cell_type": "code",
   "execution_count": 1,
   "id": "be704ca8",
   "metadata": {},
   "outputs": [],
   "source": [
    "from HARK.ConsumptionSaving.ConsIndShockModel import PerfForesightConsumerType\n",
    "\n",
    "import matplotlib.pyplot as plt\n",
    "import numpy as np"
   ]
  },
  {
   "cell_type": "markdown",
   "id": "d0698156",
   "metadata": {},
   "source": [
    "## Original Perfect Foresight Example"
   ]
  },
  {
   "cell_type": "code",
   "execution_count": 2,
   "id": "e0f219ec",
   "metadata": {},
   "outputs": [],
   "source": [
    "PFexample = PerfForesightConsumerType()\n",
    "PFexample.cycles = 0\n",
    "PFexample.solve()"
   ]
  },
  {
   "cell_type": "code",
   "execution_count": 3,
   "id": "83e6f76e",
   "metadata": {},
   "outputs": [],
   "source": [
    "SimulationParams = {\n",
    "    \"AgentCount\": 10000,  # Number of agents of this type\n",
    "    \"T_sim\": 120,  # Number of periods to simulate\n",
    "    \"aNrmInitMean\": -6.0,  # Mean of log initial assets\n",
    "    \"aNrmInitStd\": 1.0,  # Standard deviation of log initial assets\n",
    "    \"pLvlInitMean\": 0.0,  # Mean of log initial permanent income\n",
    "    \"pLvlInitStd\": 0.0,  # Standard deviation of log initial permanent income\n",
    "    \"PermGroFacAgg\": 1.0,  # Aggregate permanent income growth factor\n",
    "    \"T_age\": None,  # Age after which simulated agents are automatically killed\n",
    "}\n",
    "\n",
    "PFexample.assign_parameters(**SimulationParams)"
   ]
  },
  {
   "cell_type": "code",
   "execution_count": 4,
   "id": "66cc08fb",
   "metadata": {},
   "outputs": [
    {
     "data": {
      "text/plain": [
       "{'mNrm': array([[  1.00095989,   1.00282396,   1.00111932, ...,   1.00185921,\n",
       "           1.00044451,   1.00448108],\n",
       "        [ -0.30491013,  -0.30309332,  -0.30475474, ...,  -0.30403362,\n",
       "          -0.30541244,  -0.30147822],\n",
       "        [ -1.57766816,  -1.57589742,  -1.57751671, ...,  -1.57681387,\n",
       "          -1.57815773,  -1.57432327],\n",
       "        ...,\n",
       "        [-21.97118426,  -9.62717581, -36.59971086, ...,   1.00376132,\n",
       "          -2.81712554, -46.01045686],\n",
       "        [-22.69456637, -10.66355594,   1.00072865, ...,  -0.30217974,\n",
       "          -4.02618315, -46.12429267],\n",
       "        [-23.39960622, -11.67365734,  -0.30513551, ...,  -1.575007  ,\n",
       "          -5.20458357, -46.23524203]])}"
      ]
     },
     "execution_count": 4,
     "metadata": {},
     "output_type": "execute_result"
    }
   ],
   "source": [
    "PFexample.track_vars = [\"mNrm\"]\n",
    "PFexample.initialize_sim()\n",
    "PFexample.simulate()"
   ]
  },
  {
   "cell_type": "code",
   "execution_count": 5,
   "id": "3b126cc4",
   "metadata": {},
   "outputs": [
    {
     "data": {
      "image/png": "[encoded data removed]",
      "text/plain": [
       "<Figure size 432x288 with 1 Axes>"
      ]
     },
     "metadata": {
      "needs_background": "light"
     },
     "output_type": "display_data"
    }
   ],
   "source": [
    "plt.plot(np.mean(PFexample.history[\"mNrm\"], axis=1))\n",
    "plt.xlabel(\"Time\")\n",
    "plt.ylabel(\"Mean normalized market resources\")\n",
    "plt.show()"
   ]
  },
  {
   "cell_type": "markdown",
   "id": "0ead3ec8",
   "metadata": {},
   "source": [
    "## Using the Generic Monte Carlo Simulator"
   ]
  },
  {
   "cell_type": "code",
   "execution_count": 6,
   "id": "adfbe431",
   "metadata": {},
   "outputs": [],
   "source": [
    "from HARK.distribution import Lognormal\n",
    "import HARK.models.perfect_foresight as pf\n",
    "from HARK.simulation.monte_carlo import AgentTypeMonteCarloSimulator"
   ]
  },
  {
   "cell_type": "code",
   "execution_count": 7,
   "id": "5a0c394b",
   "metadata": {},
   "outputs": [
    {
     "data": {
      "text/plain": [
       "{'shocks': {'live': <HARK.distribution.Bernoulli at 0x7f86ff5f3cd0>},\n",
       " 'parameters': {'DiscFac': 0.96,\n",
       "  'CRRA': (2.0,),\n",
       "  'Rfree': 1.03,\n",
       "  'LivPrb': 0.98,\n",
       "  'PermGroFac': 1.01,\n",
       "  'BoroCnstArt': None},\n",
       " 'dynamics': {'y': <function HARK.models.perfect_foresight.<lambda>(p)>,\n",
       "  'm': <function HARK.models.perfect_foresight.<lambda>(Rfree, a, y)>,\n",
       "  'c': <HARK.model.Control at 0x7f86ff4d25f0>,\n",
       "  'p': <function HARK.models.perfect_foresight.<lambda>(PermGroFac, p)>,\n",
       "  'a': <function HARK.models.perfect_foresight.<lambda>(m, c)>},\n",
       " 'reward': {'u': <function HARK.models.perfect_foresight.<lambda>(c)>}}"
      ]
     },
     "execution_count": 7,
     "metadata": {},
     "output_type": "execute_result"
    }
   ],
   "source": [
    "pf.model"
   ]
  },
  {
   "cell_type": "code",
   "execution_count": 8,
   "id": "e8201f3e",
   "metadata": {},
   "outputs": [
    {
     "data": {
      "text/plain": [
       "2.6790219804335322"
      ]
     },
     "execution_count": 8,
     "metadata": {},
     "output_type": "execute_result"
    }
   ],
   "source": [
    "PFexample.solution[0].cFunc(10).tolist()"
   ]
  },
  {
   "cell_type": "code",
   "execution_count": 9,
   "id": "7c65d4cc",
   "metadata": {},
   "outputs": [
    {
     "data": {
      "text/plain": [
       "array(2.67902198)"
      ]
     },
     "execution_count": 9,
     "metadata": {},
     "output_type": "execute_result"
    }
   ],
   "source": [
    "## getting the decision rule from the original Perfect Foresight model\n",
    "PFexample.solution[0].cFunc(10)"
   ]
  },
  {
   "cell_type": "code",
   "execution_count": 10,
   "id": "e9d068bd",
   "metadata": {},
   "outputs": [],
   "source": [
    "pf_simulator = AgentTypeMonteCarloSimulator(\n",
    "    pf.model['parameters'],\n",
    "    pf.model['shocks'],\n",
    "    pf.model['dynamics'],\n",
    "    {\n",
    "        'c' : lambda m: PFexample.solution[0].cFunc(m)\n",
    "    },\n",
    "    { # initial states\n",
    "        'a' : Lognormal(-6, 1),\n",
    "        'live' : 1,\n",
    "        'p' : 1.0\n",
    "    },\n",
    "    agent_count = 10000,\n",
    "    T_sim = 120\n",
    ")\n",
    "\n"
   ]
  },
  {
   "cell_type": "code",
   "execution_count": 11,
   "id": "65df3a7f",
   "metadata": {},
   "outputs": [
    {
     "data": {
      "text/plain": [
       "{'live': array([[1., 1., 1., ..., 1., 1., 1.],\n",
       "        [1., 1., 1., ..., 1., 1., 1.],\n",
       "        [1., 1., 1., ..., 1., 1., 1.],\n",
       "        ...,\n",
       "        [1., 1., 1., ..., 1., 1., 1.],\n",
       "        [1., 1., 1., ..., 1., 1., 1.],\n",
       "        [1., 1., 1., ..., 1., 1., 1.]]),\n",
       " 'y': array([[1.        , 1.        , 1.        , ..., 1.        , 1.        ,\n",
       "         1.        ],\n",
       "        [1.01      , 1.01      , 1.01      , ..., 1.01      , 1.01      ,\n",
       "         1.01      ],\n",
       "        [1.0201    , 1.0201    , 1.0201    , ..., 1.0201    , 1.0201    ,\n",
       "         1.0201    ],\n",
       "        ...,\n",
       "        [1.08285671, 1.34784892, 1.69446581, ..., 3.203323  , 2.10912847,\n",
       "         3.203323  ],\n",
       "        [1.09368527, 1.3613274 , 1.71141047, ..., 3.23535623, 2.13021975,\n",
       "         3.23535623],\n",
       "        [1.10462213, 1.37494068, 1.72852457, ..., 3.2677098 , 2.15152195,\n",
       "         3.2677098 ]]),\n",
       " 'm': array([[  1.00289517,   1.00223716,   1.00484398, ...,   1.00168362,\n",
       "           1.00071965,   1.00716025],\n",
       "        [ -0.30605416,  -0.3067019 ,  -0.30413577, ...,  -0.3072468 ,\n",
       "          -0.30819572,  -0.30185566],\n",
       "        [ -1.58447101,  -1.58510864,  -1.58258257, ...,  -1.58564503,\n",
       "          -1.58657914,  -1.58033805],\n",
       "        ...,\n",
       "        [ -8.63499874, -26.33490532, -33.32979358, ...,  -3.90476234,\n",
       "         -30.84337272,  -3.90389321],\n",
       "        [ -9.70981688, -26.86578873, -33.40140489, ...,  -2.91174772,\n",
       "         -30.53498736,  -2.91089216],\n",
       "        [-10.75692043, -27.37477187, -33.45478426, ...,  -1.90188034,\n",
       "         -30.21011365,  -1.90103813]]),\n",
       " 'c': array([[2.28061766, 2.28058852, 2.28070395, ..., 2.28056401, 2.28052132,\n",
       "         2.28080652],\n",
       "        [2.22265556, 2.22262688, 2.22274051, ..., 2.22260275, 2.22256073,\n",
       "         2.22284147],\n",
       "        [2.16604548, 2.16601725, 2.1661291 , ..., 2.16599349, 2.16595213,\n",
       "         2.1662285 ],\n",
       "        ...,\n",
       "        [1.8538383 , 1.07006181, 0.76031842, ..., 2.06329975, 0.87042059,\n",
       "         2.06333824],\n",
       "        [1.80624386, 1.04655355, 0.75714737, ..., 2.10727182, 0.88407633,\n",
       "         2.10730971],\n",
       "        [1.75987666, 1.02401507, 0.75478366, ..., 2.15199016, 0.89846219,\n",
       "         2.15202745]]),\n",
       " 'p': array([[1.01      , 1.01      , 1.01      , ..., 1.01      , 1.01      ,\n",
       "         1.01      ],\n",
       "        [1.0201    , 1.0201    , 1.0201    , ..., 1.0201    , 1.0201    ,\n",
       "         1.0201    ],\n",
       "        [1.030301  , 1.030301  , 1.030301  , ..., 1.030301  , 1.030301  ,\n",
       "         1.030301  ],\n",
       "        ...,\n",
       "        [1.09368527, 1.3613274 , 1.71141047, ..., 3.23535623, 2.13021975,\n",
       "         3.23535623],\n",
       "        [1.10462213, 1.37494068, 1.72852457, ..., 3.2677098 , 2.15152195,\n",
       "         3.2677098 ],\n",
       "        [1.11566835, 1.38869009, 1.74580982, ..., 3.30038689, 2.17303717,\n",
       "         3.30038689]]),\n",
       " 'a': array([[ -1.27772249,  -1.27835136,  -1.27585997, ...,  -1.27888039,\n",
       "          -1.27980167,  -1.27364627],\n",
       "        [ -2.52870972,  -2.52932877,  -2.52687628, ...,  -2.52984955,\n",
       "          -2.53075645,  -2.52469714],\n",
       "        [ -3.75051649,  -3.75112588,  -3.74871167, ...,  -3.75163853,\n",
       "          -3.75253127,  -3.74656654],\n",
       "        ...,\n",
       "        [-10.48883704, -27.40496712, -34.090112  , ...,  -5.96806209,\n",
       "         -31.71379332,  -5.96723145],\n",
       "        [-11.51606074, -27.91234228, -34.15855226, ...,  -5.01901955,\n",
       "         -31.41906369,  -5.01820187],\n",
       "        [-12.51679709, -28.39878694, -34.20956791, ...,  -4.05387049,\n",
       "         -31.10857584,  -4.05306558]])}"
      ]
     },
     "execution_count": 11,
     "metadata": {},
     "output_type": "execute_result"
    }
   ],
   "source": [
    "#pf_simulator.track_vars = [\"mNrm\"]\n",
    "pf_simulator.initialize_sim()\n",
    "pf_simulator.simulate(sim_periods=120)"
   ]
  },
  {
   "cell_type": "code",
   "execution_count": 12,
   "id": "9e2c7ad0",
   "metadata": {},
   "outputs": [
    {
     "data": {
      "image/png": "[encoded data removed]",
      "text/plain": [
       "<Figure size 432x288 with 1 Axes>"
      ]
     },
     "metadata": {
      "needs_background": "light"
     },
     "output_type": "display_data"
    }
   ],
   "source": [
    "plt.plot(np.mean(pf_simulator.history['m'], axis=1))\n",
    "plt.xlabel(\"Time\")\n",
    "plt.ylabel(\"Mean normalized market resources\")\n",
    "plt.show()"
   ]
  },
  {
   "cell_type": "code",
   "execution_count": 13,
   "id": "464f19e7",
   "metadata": {},
   "outputs": [
    {
     "data": {
      "text/plain": [
       "[<matplotlib.lines.Line2D at 0x7f86f968eb60>]"
      ]
     },
     "execution_count": 13,
     "metadata": {},
     "output_type": "execute_result"
    },
    {
     "data": {
      "image/png": "[encoded data removed]",
      "text/plain": [
       "<Figure size 432x288 with 1 Axes>"
      ]
     },
     "metadata": {
      "needs_background": "light"
     },
     "output_type": "display_data"
    }
   ],
   "source": [
    "plt.plot(pf_simulator.history['live'].sum(axis=1))"
   ]
  }
 ],
 "metadata": {
  "kernelspec": {
   "display_name": "hark-env",
   "language": "python",
   "name": "hark-env"
  },
  "language_info": {
   "codemirror_mode": {
    "name": "ipython",
    "version": 3
   },
   "file_extension": ".py",
   "mimetype": "text/x-python",
   "name": "python",
   "nbconvert_exporter": "python",
   "pygments_lexer": "ipython3",
   "version": "3.10.6"
  }
 },
 "nbformat": 4,
 "nbformat_minor": 5
}
