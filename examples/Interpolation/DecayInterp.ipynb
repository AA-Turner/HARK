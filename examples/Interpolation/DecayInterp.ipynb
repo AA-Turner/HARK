{
 "cells": [
  {
   "cell_type": "markdown",
   "id": "cbe149d9",
   "metadata": {},
   "source": [
    "# Interpolators with decay\n",
    "\n",
    "## Preliminaries\n",
    "\n",
    "Suppose we have an interpolator $f(\\cdot):\\mathbb{R}^n\\rightarrow \\mathbb{R}$, and some limiting function $g(\\cdot): \\mathbb{R}^n\\rightarrow \\mathbb{R}$.\n",
    "\n",
    "We want to construct some enhanced function $h(\\cdot):\\mathbb{R}^n\\rightarrow \\mathbb{R}$ such that:\n",
    "\\begin{itemize}\n",
    "\\item $h(x) = f(x)$ when $x$ falls inside of the limits of $f$s grids.\n",
    "\\item $h(x)\\rightarrow g(x)$ when $x\\rightarrow\\infty$ in any of its dimensions.\n",
    "\\end{itemize}\n",
    "\n",
    "For any $x\\in \\mathbb{R}^n$ denote with $\\bar{x}$ the closest point to $x$ which falls inside of $f's$ grid.\n",
    "\n",
    "## Decay\n",
    "\n",
    "For $x$ inside the grid we will just use $f(x)$. Now consider $x$'s such that $x \\geq \\bar{x}$.\n",
    "\n",
    "We want to take an $h$ of the following form\n",
    "\\begin{equation}\n",
    "    h(x) = g(x) - \\left[g\\left(\\bar{x}\\right) - f\\left(\\bar{x}\\right)\\right]\\times\\exp\\{-B(x)\\cdot(x - \\bar{x})\\}\n",
    "\\end{equation}\n",
    "\n",
    "The weights $B(x)$ control how fast $h(\\cdot)$ converges to $g(\\cdot)$.\n",
    "\n",
    "### Weights\n",
    "\n",
    "Consider the weights\n",
    "\\begin{equation*}\n",
    "B(x) = -\\frac{1}{g\\left(\\bar{x}\\right) - f\\left(\\bar{x}\\right)}\\times \\left[ \\nabla g\\left(\\bar{x}\\right) - \\nabla f\\left(\\bar{x}\\right)\\right].\n",
    "\\end{equation*}\n",
    "\n",
    "They make $h(x)$ approach $g(x)$ faster when:\n",
    "\\begin{itemize}\n",
    "\\item $f$ and $g$ were close at the edge of the grid to begin with.\n",
    "\\item $f$ and $g$ 's slopes suggest that they were approaching rapidly at the edge of the grid.\n",
    "\\end{itemize}"
   ]
  }
 ],
 "metadata": {
  "kernelspec": {
   "display_name": "Python 3 (ipykernel)",
   "language": "python",
   "name": "python3"
  },
  "language_info": {
   "codemirror_mode": {
    "name": "ipython",
    "version": 3
   },
   "file_extension": ".py",
   "mimetype": "text/x-python",
   "name": "python",
   "nbconvert_exporter": "python",
   "pygments_lexer": "ipython3",
   "version": "3.8.8"
  },
  "latex_envs": {
   "LaTeX_envs_menu_present": true,
   "autoclose": false,
   "autocomplete": true,
   "bibliofile": "biblio.bib",
   "cite_by": "apalike",
   "current_citInitial": 1,
   "eqLabelWithNumbers": true,
   "eqNumInitial": 1,
   "hotkeys": {
    "equation": "Ctrl-E",
    "itemize": "Ctrl-I"
   },
   "labels_anchors": false,
   "latex_user_defs": false,
   "report_style_numbering": false,
   "user_envs_cfg": false
  }
 },
 "nbformat": 4,
 "nbformat_minor": 5
}
