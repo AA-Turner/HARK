{
 "cells": [
  {
   "cell_type": "code",
   "execution_count": 1,
   "id": "19c5f531",
   "metadata": {
    "execution": {
     "iopub.execute_input": "2023-03-16T17:28:02.153953Z",
     "iopub.status.busy": "2023-03-16T17:28:02.153953Z",
     "iopub.status.idle": "2023-03-16T17:28:03.733812Z",
     "shell.execute_reply": "2023-03-16T17:28:03.733812Z"
    }
   },
   "outputs": [],
   "source": [
    "from HARK.ConsumptionSaving.ConsIndBequestModel import (\n",
    "    TerminalBequestConsumerType,\n",
    "    init_lifecycle,\n",
    ")\n",
    "\n",
    "from HARK.Calibration.Income.IncomeTools import (\n",
    "    parse_income_spec,\n",
    "    parse_time_params,\n",
    "    CGM_income,\n",
    ")\n",
    "\n",
    "from HARK.datasets.life_tables.us_ssa.SSATools import parse_ssa_life_table\n",
    "from HARK.datasets.SCF.WealthIncomeDist.SCFDistTools import income_wealth_dists_from_scf\n",
    "import matplotlib.pyplot as plt\n",
    "import pandas as pd\n",
    "from copy import copy"
   ]
  },
  {
   "cell_type": "code",
   "execution_count": 2,
   "id": "8a2d828c",
   "metadata": {
    "execution": {
     "iopub.execute_input": "2023-03-16T17:28:03.736814Z",
     "iopub.status.busy": "2023-03-16T17:28:03.735815Z",
     "iopub.status.idle": "2023-03-16T17:28:03.781206Z",
     "shell.execute_reply": "2023-03-16T17:28:03.781206Z"
    },
    "title": "Alter calibration"
   },
   "outputs": [],
   "source": [
    "birth_age = 25\n",
    "death_age = 90\n",
    "adjust_infl_to = 1992\n",
    "income_calib = CGM_income\n",
    "education = \"College\"\n",
    "\n",
    "# Income specification\n",
    "income_params = parse_income_spec(\n",
    "    age_min=birth_age,\n",
    "    age_max=death_age,\n",
    "    adjust_infl_to=adjust_infl_to,\n",
    "    **income_calib[education],\n",
    "    SabelhausSong=True\n",
    ")\n",
    "\n",
    "# Initial distribution of wealth and permanent income\n",
    "dist_params = income_wealth_dists_from_scf(\n",
    "    base_year=adjust_infl_to, age=birth_age, education=education, wave=1995\n",
    ")\n",
    "\n",
    "# We need survival probabilities only up to death_age-1, because survival\n",
    "# probability at death_age is 1.\n",
    "liv_prb = parse_ssa_life_table(\n",
    "    female=True, cross_sec=True, year=2004, min_age=birth_age, max_age=death_age - 1\n",
    ")\n",
    "\n",
    "# Parameters related to the number of periods implied by the calibration\n",
    "time_params = parse_time_params(age_birth=birth_age, age_death=death_age)\n",
    "\n",
    "# Update all the new parameters\n",
    "params = copy(init_lifecycle)\n",
    "params.update(time_params)\n",
    "params.update(dist_params)\n",
    "params.update(income_params)\n",
    "params.update({\"LivPrb\": liv_prb})"
   ]
  },
  {
   "cell_type": "code",
   "execution_count": 3,
   "id": "fbfff075",
   "metadata": {
    "execution": {
     "iopub.execute_input": "2023-03-16T17:28:03.783207Z",
     "iopub.status.busy": "2023-03-16T17:28:03.783207Z",
     "iopub.status.idle": "2023-03-16T17:28:04.607855Z",
     "shell.execute_reply": "2023-03-16T17:28:04.607341Z"
    },
    "title": "Create and solve agent"
   },
   "outputs": [],
   "source": [
    "Agent = TerminalBequestConsumerType(**params)\n",
    "Agent.solve()"
   ]
  },
  {
   "cell_type": "code",
   "execution_count": 4,
   "id": "a16b7032",
   "metadata": {
    "execution": {
     "iopub.execute_input": "2023-03-16T17:28:04.609862Z",
     "iopub.status.busy": "2023-03-16T17:28:04.608862Z",
     "iopub.status.idle": "2023-03-16T17:28:06.499843Z",
     "shell.execute_reply": "2023-03-16T17:28:06.499843Z"
    },
    "title": "Simulation"
   },
   "outputs": [
    {
     "data": {
      "text/plain": [
       "{'aNrm': array([[nan, nan, nan, ..., nan, nan, nan],\n",
       "        [nan, nan, nan, ..., nan, nan, nan],\n",
       "        [nan, nan, nan, ..., nan, nan, nan],\n",
       "        ...,\n",
       "        [nan, nan, nan, ..., nan, nan, nan],\n",
       "        [nan, nan, nan, ..., nan, nan, nan],\n",
       "        [nan, nan, nan, ..., nan, nan, nan]]),\n",
       " 'cNrm': array([[nan, nan, nan, ..., nan, nan, nan],\n",
       "        [nan, nan, nan, ..., nan, nan, nan],\n",
       "        [nan, nan, nan, ..., nan, nan, nan],\n",
       "        ...,\n",
       "        [nan, nan, nan, ..., nan, nan, nan],\n",
       "        [nan, nan, nan, ..., nan, nan, nan],\n",
       "        [nan, nan, nan, ..., nan, nan, nan]]),\n",
       " 'pLvl': array([[ 44.17755524,  20.35577683,   9.62156414, ...,  22.58783801,\n",
       "           8.69202078,  11.39484156],\n",
       "        [ 42.69570423,  17.65771873,  15.2555234 , ...,  29.27932939,\n",
       "          13.78168087,   8.1685812 ],\n",
       "        [ 54.99138173,  15.21967918,  13.14916017, ...,  37.71130629,\n",
       "           9.81667739,   7.84428065],\n",
       "        ...,\n",
       "        [168.67772028, 332.10427744, 629.7416812 , ..., 121.36453854,\n",
       "         264.89759274, 915.62596279],\n",
       "        [146.1438155 , 332.10427744, 498.99941378, ..., 155.10185875,\n",
       "         242.88199398, 676.9427477 ],\n",
       "        [106.82942396, 332.10427744, 442.15292568, ..., 172.65416349,\n",
       "         309.43504077, 754.08506963]]),\n",
       " 't_age': array([[ 1.,  1.,  1., ...,  1.,  1.,  1.],\n",
       "        [ 2.,  2.,  2., ...,  2.,  2.,  2.],\n",
       "        [ 3.,  3.,  3., ...,  3.,  3.,  3.],\n",
       "        ...,\n",
       "        [ 3., 50., 17., ..., 31., 27., 36.],\n",
       "        [ 4., 51., 18., ..., 32., 28., 37.],\n",
       "        [ 5., 52., 19., ..., 33., 29., 38.]]),\n",
       " 'mNrm': array([[1.12281987, 1.90686072, 1.2099236 , ..., 2.78836738, 3.93981893,\n",
       "         1.06032685],\n",
       "        [       nan,        nan,        nan, ...,        nan,        nan,\n",
       "                nan],\n",
       "        [       nan,        nan,        nan, ...,        nan,        nan,\n",
       "                nan],\n",
       "        ...,\n",
       "        [       nan,        nan,        nan, ...,        nan,        nan,\n",
       "                nan],\n",
       "        [       nan,        nan,        nan, ...,        nan,        nan,\n",
       "                nan],\n",
       "        [       nan,        nan,        nan, ...,        nan,        nan,\n",
       "                nan]])}"
      ]
     },
     "execution_count": 4,
     "metadata": {},
     "output_type": "execute_result"
    }
   ],
   "source": [
    "# Number of agents and periods in the simulation.\n",
    "Agent.AgentCount = 500\n",
    "Agent.T_sim = 200\n",
    "\n",
    "# Set up the variables we want to keep track of.\n",
    "Agent.track_vars = [\"aNrm\", \"cNrm\", \"pLvl\", \"t_age\", \"mNrm\"]\n",
    "\n",
    "# Run the simulations\n",
    "Agent.initialize_sim()\n",
    "Agent.simulate()"
   ]
  },
  {
   "cell_type": "code",
   "execution_count": 5,
   "id": "7c7979ec",
   "metadata": {
    "execution": {
     "iopub.execute_input": "2023-03-16T17:28:06.501842Z",
     "iopub.status.busy": "2023-03-16T17:28:06.501842Z",
     "iopub.status.idle": "2023-03-16T17:28:06.515850Z",
     "shell.execute_reply": "2023-03-16T17:28:06.515850Z"
    },
    "title": "Extract and format simulation results"
   },
   "outputs": [],
   "source": [
    "raw_data = {\n",
    "    \"Age\": Agent.history[\"t_age\"].flatten() + birth_age - 1,\n",
    "    \"pIncome\": Agent.history[\"pLvl\"].flatten(),\n",
    "    \"nrmM\": Agent.history[\"mNrm\"].flatten(),\n",
    "    \"nrmC\": Agent.history[\"cNrm\"].flatten(),\n",
    "}\n",
    "\n",
    "Data = pd.DataFrame(raw_data)\n",
    "Data[\"Cons\"] = Data.nrmC * Data.pIncome\n",
    "Data[\"M\"] = Data.nrmM * Data.pIncome"
   ]
  },
  {
   "cell_type": "code",
   "execution_count": 6,
   "id": "1d8269db",
   "metadata": {
    "execution": {
     "iopub.execute_input": "2023-03-16T17:28:06.517856Z",
     "iopub.status.busy": "2023-03-16T17:28:06.517856Z",
     "iopub.status.idle": "2023-03-16T17:28:06.763139Z",
     "shell.execute_reply": "2023-03-16T17:28:06.763139Z"
    },
    "title": "Plots"
   },
   "outputs": [
    {
     "data": {
      "image/png": "[encoded data removed]",
      "text/plain": [
       "<Figure size 640x480 with 1 Axes>"
      ]
     },
     "metadata": {},
     "output_type": "display_data"
    }
   ],
   "source": [
    "# Find the mean of each variable at every age\n",
    "AgeMeans = Data.groupby([\"Age\"]).median().reset_index()\n",
    "\n",
    "plt.figure()\n",
    "plt.plot(AgeMeans.Age, AgeMeans.pIncome, label=\"Permanent Income\")\n",
    "plt.plot(AgeMeans.Age, AgeMeans.M, label=\"Market resources\")\n",
    "plt.plot(AgeMeans.Age, AgeMeans.Cons, label=\"Consumption\")\n",
    "plt.legend()\n",
    "plt.xlabel(\"Age\")\n",
    "plt.ylabel(\"Thousands of {} USD\".format(adjust_infl_to))\n",
    "plt.title(\"Variable Medians Conditional on Survival\")\n",
    "plt.grid()"
   ]
  }
 ],
 "metadata": {
  "jupytext": {
   "formats": "ipynb,py:percent"
  },
  "kernelspec": {
   "display_name": "Python 3 (ipykernel)",
   "language": "python",
   "name": "python3"
  },
  "language_info": {
   "codemirror_mode": {
    "name": "ipython",
    "version": 3
   },
   "file_extension": ".py",
   "mimetype": "text/x-python",
   "name": "python",
   "nbconvert_exporter": "python",
   "pygments_lexer": "ipython3",
   "version": "3.9.16"
  }
 },
 "nbformat": 4,
 "nbformat_minor": 5
}
