{
 "cells": [
  {
   "cell_type": "markdown",
   "metadata": {},
   "source": [
    "\n",
    "# A Lifecycle Model: The Distribution of Assets By Age\n",
    "\n",
    "National registry data on income and wealth from Scandinavian countries has recently become available (with a lot of security) to some (lucky!) researchers. These data offer a uniquely powerful tool for testing (and improving) our models of consumption and saving behavior over the life cycle.\n",
    "\n",
    "\n",
    "But as of this writing (in March of 2019), the data are so new that there do not seem to be any published attempts to compare the data to the implications a standard life cycle model with income uncertainty, constraints, and other modern features.\n",
    "\n",
    "This notebook is an example of how one could counstruct a life cycle model with the HARK toolkit that would make predictions about the model analogues of the raw data statistics that are available.\n",
    "\n",
    "For example, the papers have shown information about the growth rate of assets at different ages over the life cycle.  Here, we show how (under a given parameterization) we could produce the life cycle model's prediction about the distribution of assets at age 65 and age 66, and the growth rate between 65 and 66.\n",
    "\n",
    "The parameters of the model have not been optimized to match features of the Norwegian data; a first step in \"structural\" estimation would be to calibrate the inputs to the model (like the profile of income over the life cycle, and the magnitude of income shocks), and then to find the values of parameters like the time preference rate that allow the model to fit the data best.\n",
    "\n",
    "An interesting question is whether this exercise will suggest that it is necessary to allow for _ex ante_ heterogeneity in such preference parameters.\n",
    "\n",
    "This seems likely; a paper by [Carroll et al (2017)](https://www.econ2.jhu.edu/people/ccarroll/papers/cstwMPC) (all of whose results were constructed using the HARK toolkit) finds that, if all other parameters (e.g., rates of return on savings) are the same, models of this kind require substantial heterogeneity in preferences to generate the degree of inequality in U.S. data. <!--- <cite data-cite=\"6202365/7MR8GUVS\"></cite> -->\n",
    "\n",
    "But in one of the many new and interesting findings from the Norwegian data, [Fagereng et al (2020)](https://onlinelibrary.wiley.com/doi/epdf/10.3982/ECTA14835) have shown that there is substantial heterogeneity in rates of return, even on wealth held in public markets.   <!--- <cite data-cite=\"6202365/B9BGV9W3\"></cite> -->\n",
    "\n",
    "[Derin Aksit](https://github.com/econ-ark/cstwMPC-RHetero) has shown that the degree of time preference heterogeneity needed to match observed inequality is considerably less when rate-of-return heterogeneity is calibrated to match these data."
   ]
  },
  {
   "cell_type": "code",
   "execution_count": null,
   "metadata": {
    "code_folding": [
     0
    ],
    "lines_to_next_cell": 2
   },
   "outputs": [],
   "source": [
    "# Initial imports and notebook setup, click arrow to show\n",
    "\n",
    "import HARK.ConsumptionSaving.ConsIndShockModel as Model  # The consumption-saving micro model\n",
    "import EstimationParameters as Params  # Parameters for the consumer type and the estimation\n",
    "from HARK.utilities import plot_funcs_der, plot_funcs  # Some tools\n",
    "\n",
    "import numpy as np"
   ]
  },
  {
   "cell_type": "code",
   "execution_count": null,
   "metadata": {
    "code_folding": [
     0
    ],
    "lines_to_next_cell": 2
   },
   "outputs": [],
   "source": [
    "# Set up default values for CRRA, DiscFac, and simulation variables in the dictionary\n",
    "Params.init_consumer_objects[\n",
    "    \"CRRA\"\n",
    "] = 2.00  # Default coefficient of relative risk aversion (rho)\n",
    "Params.init_consumer_objects[\n",
    "    \"DiscFac\"\n",
    "] = 0.97  # Default intertemporal discount factor (beta)\n",
    "Params.init_consumer_objects[\n",
    "    \"PermGroFacAgg\"\n",
    "] = 1.0  # Aggregate permanent income growth factor\n",
    "Params.init_consumer_objects[\"aNrmInitMean\"] = -10.0  # Mean of log initial assets\n",
    "Params.init_consumer_objects[\n",
    "    \"aNrmInitStd\"\n",
    "] = 1.0  # Standard deviation of log initial assets\n",
    "Params.init_consumer_objects[\n",
    "    \"pLvlInitMean\"\n",
    "] = 0.0  # Mean of log initial permanent income\n",
    "Params.init_consumer_objects[\n",
    "    \"pLvlInitStd\"\n",
    "] = 0.0  # Standard deviation of log initial permanent income"
   ]
  },
  {
   "cell_type": "code",
   "execution_count": null,
   "metadata": {
    "lines_to_next_cell": 2
   },
   "outputs": [],
   "source": [
    "# Make a lifecycle consumer to be used for estimation\n",
    "LifeCyclePop = Model.IndShockConsumerType(**Params.init_consumer_objects)"
   ]
  },
  {
   "cell_type": "code",
   "execution_count": null,
   "metadata": {
    "code_folding": [
     0
    ],
    "lines_to_next_cell": 2
   },
   "outputs": [],
   "source": [
    "# Solve and simulate the model (ignore the \"warning\" message)\n",
    "LifeCyclePop.solve()  # Obtain consumption rules by age\n",
    "LifeCyclePop.unpack(\"cFunc\")  # Expose the consumption rules\n",
    "\n",
    "# Which variables do we want to track\n",
    "LifeCyclePop.track_vars = [\"aNrm\", \"pLvl\", \"mNrm\", \"cNrm\", \"TranShk\"]\n",
    "\n",
    "LifeCyclePop.T_sim = 120  # Nobody lives to be older than 145 years (=25+120)\n",
    "LifeCyclePop.initialize_sim()  # Construct the age-25 distribution of income and assets\n",
    "LifeCyclePop.simulate()  # Simulate a population behaving according to this model"
   ]
  },
  {
   "cell_type": "code",
   "execution_count": null,
   "metadata": {
    "code_folding": [
     0
    ]
   },
   "outputs": [],
   "source": [
    "# Plot the consumption functions during working life\n",
    "\n",
    "print(\"Consumption as a function of market resources while working:\")\n",
    "mMin = min([LifeCyclePop.solution[t].mNrmMin for t in range(LifeCyclePop.T_cycle)])\n",
    "plot_funcs(LifeCyclePop.cFunc[: LifeCyclePop.T_retire], mMin, 5)"
   ]
  },
  {
   "cell_type": "code",
   "execution_count": null,
   "metadata": {
    "code_folding": [
     0
    ]
   },
   "outputs": [],
   "source": [
    "# Define the saving rate function\n",
    "def savingRateFunc(SomeType, m):\n",
    "    \"\"\"\n",
    "    Parameters:\n",
    "    ----------\n",
    "        SomeType:\n",
    "             Agent type that has been solved and simulated.\n",
    "\n",
    "\n",
    "    Returns:\n",
    "    --------\n",
    "        SavingRate: float\n",
    "\n",
    "    \"\"\"\n",
    "    inc = (SomeType.Rfree - 1.0) * (m - 1.0) + 1.0\n",
    "    cons = SomeType.solution[0].cFunc(m)\n",
    "    Saving = inc - cons\n",
    "    SavingRate = Saving / inc\n",
    "    return SavingRate"
   ]
  },
  {
   "cell_type": "code",
   "execution_count": null,
   "metadata": {
    "code_folding": [
     0
    ],
    "lines_to_next_cell": 2
   },
   "outputs": [],
   "source": [
    "# Create a Giant matrix gathering useful data:\n",
    "# 't_now', 'aNrmNow_hist', 'cNrmNow_hist', employment-status in date t, in date t-1, aLvlGro_hist, Saving rate\n",
    "\n",
    "w, h = 1, LifeCyclePop.T_cycle\n",
    "giant_list = [[0 for x in range(w)] for y in range(h)]\n",
    "SavingRate_list = []\n",
    "\n",
    "import warnings\n",
    "\n",
    "warnings.filterwarnings(\"ignore\")  # Suppress some disturbing but harmless warnings\n",
    "\n",
    "for t in range(1, LifeCyclePop.T_cycle + 1):\n",
    "    # aLvlGro_hist[0] = 0 # set the first growth rate to 0, since there is no data for period 0\n",
    "    aLvlGroNow = np.log(\n",
    "        LifeCyclePop.history[\"aNrm\"][t] / LifeCyclePop.history[\"aNrm\"][t - 1]\n",
    "    )  # (10000,)\n",
    "\n",
    "    # Call the saving rate function with test value for\n",
    "    SavingRate = savingRateFunc(LifeCyclePop, LifeCyclePop.history[\"mNrm\"][t])\n",
    "\n",
    "    SavingRate_list.append(SavingRate)\n",
    "\n",
    "    # Create elements of matrix list\n",
    "    matrix_list = [0 for number in range(7)]\n",
    "    matrix_list[0] = t\n",
    "    matrix_list[1] = LifeCyclePop.history[\"aNrm\"][t]\n",
    "    matrix_list[2] = LifeCyclePop.history[\"cNrm\"][t]\n",
    "    matrix_list[3] = LifeCyclePop.history[\"TranShk\"][t]\n",
    "    matrix_list[4] = LifeCyclePop.history[\"TranShk\"][t - 1]\n",
    "    matrix_list[5] = aLvlGroNow\n",
    "    matrix_list[6] = SavingRate\n",
    "\n",
    "    giant_list[t - 1] = matrix_list\n",
    "\n",
    "# Print command disabled to prevent giant print!\n",
    "# print giant_list"
   ]
  },
  {
   "cell_type": "code",
   "execution_count": null,
   "metadata": {
    "code_folding": [
     0
    ],
    "lines_to_next_cell": 2
   },
   "outputs": [],
   "source": [
    "# Construct the level of assets A from a*p where a is the ratio to permanent income p\n",
    "LifeCyclePop.history[\"aLvl\"] = (\n",
    "    LifeCyclePop.history[\"aNrm\"] * LifeCyclePop.history[\"pLvl\"]\n",
    ")\n",
    "aGro41 = LifeCyclePop.history[\"aLvl\"][41] / LifeCyclePop.history[\"aLvl\"][40]\n",
    "aGro41NoU = aGro41[aGro41[:] > 0.2]  # Throw out extreme outliers"
   ]
  },
  {
   "cell_type": "code",
   "execution_count": null,
   "metadata": {
    "code_folding": [
     0
    ]
   },
   "outputs": [],
   "source": [
    "# Plot the distribution of growth rates of wealth between age 65 and 66 (=25 + 41)\n",
    "from matplotlib import pyplot as plt\n",
    "\n",
    "n, bins, patches = plt.hist(aGro41NoU, 50, density=True)"
   ]
  }
 ],
 "metadata": {
  "jupytext": {
   "cell_metadata_filter": "collapsed,code_folding",
   "formats": "ipynb,py:percent",
   "notebook_metadata_filter": "all"
  },
  "kernelspec": {
   "display_name": "Python 3 (ipykernel)",
   "language": "python",
   "name": "python3"
  },
  "language_info": {
   "codemirror_mode": {
    "name": "ipython",
    "version": 3
   },
   "file_extension": ".py",
   "mimetype": "text/x-python",
   "name": "python",
   "nbconvert_exporter": "python",
   "pygments_lexer": "ipython3",
   "version": "3.8.16"
  }
 },
 "nbformat": 4,
 "nbformat_minor": 4
}
