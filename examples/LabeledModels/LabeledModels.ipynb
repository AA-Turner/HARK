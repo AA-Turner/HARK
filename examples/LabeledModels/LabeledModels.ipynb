{
 "cells": [
  {
   "cell_type": "markdown",
   "metadata": {},
   "source": [
    "# Using xarray to solve Heterogeneous Agent Models\n"
   ]
  },
  {
   "cell_type": "markdown",
   "metadata": {},
   "source": [
    "Import required libraries.\n"
   ]
  },
  {
   "cell_type": "code",
   "execution_count": null,
   "metadata": {},
   "outputs": [],
   "source": [
    "from types import SimpleNamespace\n",
    "\n",
    "import estimagic as em\n",
    "import matplotlib.pyplot as plt\n",
    "import numpy as np\n",
    "import xarray as xr\n",
    "from HARK.ConsumptionSaving.ConsIndShockModel import PerfForesightConsumerType\n",
    "from HARK.rewards import UtilityFuncCRRA\n",
    "from HARK.utilities import plot_funcs\n",
    "\n",
    "from xarray import DataArray, Dataset"
   ]
  },
  {
   "cell_type": "markdown",
   "metadata": {},
   "source": [
    "Here are some basic parameters that we'll use to construct the model. `CRRA` is the coefficient of constant relative risk aversion, `DiscFac` is the intertemporal discount factor, and `Rfree` is the interest rate on savings.\n"
   ]
  },
  {
   "cell_type": "code",
   "execution_count": null,
   "metadata": {},
   "outputs": [],
   "source": [
    "epsilon = 1e-6  # lower bound for cash-on-hand\n",
    "CRRA = 2.0  # coefficient of relative risk aversion\n",
    "DiscFac = 0.96  # discounting factor\n",
    "Rfree = 1.03  # risk free interest rate\n",
    "params = SimpleNamespace(CRRA=CRRA, DiscFac=DiscFac, Rfree=Rfree)\n",
    "\n",
    "\n",
    "util = UtilityFuncCRRA(CRRA)"
   ]
  },
  {
   "cell_type": "markdown",
   "metadata": {},
   "source": [
    "### The Problem\n"
   ]
  },
  {
   "cell_type": "markdown",
   "metadata": {},
   "source": [
    "First, we explore the structure of a perfect-foresight consumption-savings model. The agent's problem is to maximize their present discounted utility of consumption subject to a budget constraint. The recursive problem is given by\n",
    "\n",
    "$$\n",
    "v_t(m_t) = \\max_{c_t} u(c_t) + \\beta v_{t+1}(m_{t+1}) \\\\\n",
    "s.t. \\\\\n",
    " a_t = m_t - c_t \\\\\n",
    "m_{t+1} = R  a_t + 1\n",
    "$$\n"
   ]
  },
  {
   "cell_type": "markdown",
   "metadata": {},
   "source": [
    "This problem can be disected into two stages and two transitions:\n",
    "\n",
    "First, the agent chooses consumption $c_t$ to maximize their utility given their current cash-on-hand $m_t$ and is left with liquid assets $a_t$. This problem must obey their budget constraint, such that assets is equal to cash-on-hand minus consumption.\n",
    "\n",
    "$$\n",
    "v_t(m_t) = \\max_{c_t} u(c_t) + \\beta w_{t}(a_{t}) \\\\\n",
    "s.t. \\\\\n",
    " a_t = m_t - c_t \\\\\n",
    "$$\n",
    "\n",
    "Second, the agent receives a constant income and the liquid assets accrue interest, which results in next period's cash-on-hand $m_{t+1}$.\n",
    "\n",
    "$$\n",
    "w_t(a_t) = v_{t+1}(m_{t+1}) \\\\\n",
    "s.t. \\\\\n",
    " m_{t+1} = R  a_t + 1\n",
    "$$\n",
    "\n",
    "Although this is very simple, it will be apparent later why this separation is useful.\n"
   ]
  },
  {
   "cell_type": "markdown",
   "metadata": {},
   "source": [
    "### Defining the state space.\n"
   ]
  },
  {
   "cell_type": "markdown",
   "metadata": {},
   "source": [
    "We can define the state space two ways: as a numpy grid, or as an xarray.DataArrray.\n"
   ]
  },
  {
   "cell_type": "code",
   "execution_count": null,
   "metadata": {},
   "outputs": [],
   "source": [
    "mVec = np.geomspace(epsilon, 20, 100)  # grid for market resources"
   ]
  },
  {
   "cell_type": "markdown",
   "metadata": {},
   "source": [
    "The xr.DataArray will be useful for representing the state space in a more general way. We can define the state space as a 1-dimensional array of cash-on-hand values. For our simple example, we use a 1 variable xr.Dataset to represent the state space.\n"
   ]
  },
  {
   "cell_type": "code",
   "execution_count": null,
   "metadata": {},
   "outputs": [],
   "source": [
    "mNrm = DataArray(\n",
    "    mVec,\n",
    "    name=\"mNrm\",\n",
    "    dims=(\"mNrm\"),\n",
    "    attrs={\"long_name\": \"Normalized Market Resources\"},\n",
    ")\n",
    "state = Dataset({\"mNrm\": mNrm})  # only one state var in this model"
   ]
  },
  {
   "cell_type": "markdown",
   "metadata": {},
   "source": [
    "Notice the structure of an xr.Dataset which includes `mNrm` as a dimension.\n"
   ]
  },
  {
   "cell_type": "code",
   "execution_count": null,
   "metadata": {},
   "outputs": [],
   "source": [
    "state"
   ]
  },
  {
   "cell_type": "markdown",
   "metadata": {},
   "source": [
    "We can do the same for the liquid assets, which we can refer to as the post-decision state (post-state for short) of the first stage of the problem, or the state of the second stage of the problem.\n"
   ]
  },
  {
   "cell_type": "code",
   "execution_count": null,
   "metadata": {},
   "outputs": [],
   "source": [
    "aNrm = DataArray(\n",
    "    mVec,\n",
    "    name=\"aNrm\",\n",
    "    dims=(\"aNrm\"),\n",
    "    attrs={\"long_name\": \"Normalized Liquid Assets\"},\n",
    ")\n",
    "post_state = Dataset({\"aNrm\": aNrm})\n",
    "\n",
    "print(post_state)"
   ]
  },
  {
   "cell_type": "markdown",
   "metadata": {},
   "source": [
    "We can now define functions over the state space. In this basic model, we need an action/policy/decision to represent consumption. Starting from the last period, we know that the solution is for the agent to consume all of its resources `mNrm`, which induces a linear function. Defining it as a function of the state space is easy, notice in the expression below that the dimension for `cNrm` is `mNrm`.\n"
   ]
  },
  {
   "cell_type": "code",
   "execution_count": null,
   "metadata": {},
   "outputs": [],
   "source": [
    "# optimal decision is to consume everything in the last period\n",
    "cNrm = DataArray(\n",
    "    mVec,\n",
    "    name=\"cNrm\",\n",
    "    dims=state.dims,\n",
    "    coords=state.coords,\n",
    "    attrs={\"long_name\": \"Consumption\"},\n",
    ")\n",
    "actions = Dataset({\"cNrm\": cNrm})\n",
    "cNrm"
   ]
  },
  {
   "cell_type": "markdown",
   "metadata": {},
   "source": [
    "### The Value and Marginal Value functions.\n"
   ]
  },
  {
   "cell_type": "markdown",
   "metadata": {},
   "source": [
    "To define the value and marginal value functions in the last period, we can use the utility and marginal utility functions.\n"
   ]
  },
  {
   "cell_type": "code",
   "execution_count": null,
   "metadata": {},
   "outputs": [],
   "source": [
    "v = util(cNrm)\n",
    "v.name = \"v\"\n",
    "v.attrs = {\"long_name\": \"Value Function\"}\n",
    "\n",
    "v_der = util.der(cNrm)\n",
    "v_der.name = \"v_der\"\n",
    "v_der.attrs = {\"long_name\": \"Marginal Value Function\"}"
   ]
  },
  {
   "cell_type": "markdown",
   "metadata": {},
   "source": [
    "It will also be useful to define the inverse value and inverse marginal value functions.\n"
   ]
  },
  {
   "cell_type": "code",
   "execution_count": null,
   "metadata": {},
   "outputs": [],
   "source": [
    "v_inv = cNrm.copy()\n",
    "v_inv.name = \"v_inv\"\n",
    "v_inv.attrs = {\"long_name\": \"Inverse Value Function\"}\n",
    "\n",
    "v_der_inv = cNrm.copy()\n",
    "v_der_inv.name = \"v_der_inv\"\n",
    "v_der_inv.attrs = {\"long_name\": \"Inverse Marginal Value Function\"}"
   ]
  },
  {
   "cell_type": "markdown",
   "metadata": {},
   "source": [
    "We can now create a xr.Dataset to store all of the variables/functions we have created. Datasets are useful containers of variables that are defined over the same dimensions, or in our case states. As we can see, every variable in the dataset shares the same dimension of `mNrm`.\n"
   ]
  },
  {
   "cell_type": "code",
   "execution_count": null,
   "metadata": {},
   "outputs": [],
   "source": [
    "dataset = Dataset(\n",
    "    {\n",
    "        \"cNrm\": cNrm,\n",
    "        \"v\": v,\n",
    "        \"v_der\": v_der,\n",
    "        \"v_inv\": v_inv,\n",
    "        \"v_der_inv\": v_der_inv,\n",
    "    }\n",
    ")\n",
    "dataset"
   ]
  },
  {
   "cell_type": "markdown",
   "metadata": {},
   "source": [
    "We can also create separate datasets for the value function variables and the policy function variable.\n"
   ]
  },
  {
   "cell_type": "code",
   "execution_count": null,
   "metadata": {},
   "outputs": [],
   "source": [
    "value_function = Dataset(\n",
    "    {\"v\": v, \"v_der\": v_der, \"v_inv\": v_inv, \"v_der_inv\": v_der_inv}\n",
    ")\n",
    "policy_function = Dataset({\"cNrm\": cNrm})"
   ]
  },
  {
   "cell_type": "markdown",
   "metadata": {},
   "source": [
    "Up to now I've used the word function for the variables stored as datasets. This is because using the `interp` method we can interpolate the values of the variables at any point in the state space. So, if we have enough points we can approximate the true functions numerically. This is useful for solving the model, as we will see later.\n"
   ]
  },
  {
   "cell_type": "code",
   "execution_count": null,
   "metadata": {
    "lines_to_next_cell": 2
   },
   "outputs": [],
   "source": [
    "dataset.interp({\"mNrm\": np.sort(np.random.uniform(epsilon, 20, 10))})"
   ]
  },
  {
   "cell_type": "markdown",
   "metadata": {
    "lines_to_next_cell": 2
   },
   "source": [
    "Because of the curvature of the value and marginal value functions, it'll be useful to use the inverse value and marginal value functions instead and re-curve them. For this, I create a new class `ValueFunctionCRRA` that returns the appropriate value and marginal value functions.\n"
   ]
  },
  {
   "cell_type": "code",
   "execution_count": null,
   "metadata": {},
   "outputs": [],
   "source": [
    "class ValueFunctionCRRA(object):\n",
    "    def __init__(self, dataset: xr.Dataset, CRRA: float):\n",
    "        self.dataset = dataset\n",
    "        self.CRRA = CRRA\n",
    "        self.u = UtilityFuncCRRA(CRRA)\n",
    "\n",
    "    def __call__(self, state):\n",
    "        \"\"\"\n",
    "        Interpolate inverse falue function then invert to get value function at given state.\n",
    "        \"\"\"\n",
    "\n",
    "        result = self.u(\n",
    "            self.dataset[\"v_inv\"].interp(\n",
    "                state,\n",
    "                assume_sorted=True,\n",
    "                kwargs={\"fill_value\": \"extrapolate\"},\n",
    "            )\n",
    "        )\n",
    "\n",
    "        result.name = \"v\"\n",
    "        result.attrs = self.dataset[\"v\"].attrs\n",
    "\n",
    "        return result\n",
    "\n",
    "    def derivative(self, state):\n",
    "        \"\"\"\n",
    "        Interpolate inverse marginal value function then invert to get marginal value function at given state.\n",
    "        \"\"\"\n",
    "        result = self.u.der(\n",
    "            self.dataset[\"v_der_inv\"].interp(\n",
    "                state,\n",
    "                assume_sorted=True,\n",
    "                kwargs={\"fill_value\": \"extrapolate\"},\n",
    "            )\n",
    "        )\n",
    "\n",
    "        result.name = \"v_der\"\n",
    "        result.attrs = self.dataset[\"v\"].attrs\n",
    "\n",
    "        return result\n",
    "\n",
    "    def evaluate(self, state):\n",
    "        \"\"\"\n",
    "        Interpolate all data variables in the dataset.\n",
    "        \"\"\"\n",
    "\n",
    "        result = self.dataset.interp(state, kwargs={\"fill_value\": \"extrapolate\"})\n",
    "        result.attrs = self.dataset[\"v\"].attrs\n",
    "\n",
    "        return result"
   ]
  },
  {
   "cell_type": "markdown",
   "metadata": {},
   "source": [
    "Now we can create a `ValueFuncCRRA` that will appropriately recurve the value and marginal value functions."
   ]
  },
  {
   "cell_type": "code",
   "execution_count": null,
   "metadata": {},
   "outputs": [],
   "source": [
    "vfunc = ValueFunctionCRRA(value_function, CRRA)"
   ]
  },
  {
   "cell_type": "markdown",
   "metadata": {},
   "source": [
    "For an example of how this is useful, we can create a random grid of states and compare the differences in the 2 approaches."
   ]
  },
  {
   "cell_type": "code",
   "execution_count": null,
   "metadata": {},
   "outputs": [],
   "source": [
    "rand_states = np.sort(np.random.uniform(mVec[1], mVec[-1], 100))\n",
    "rand_states"
   ]
  },
  {
   "cell_type": "markdown",
   "metadata": {},
   "source": [
    "If we simply linearly interpolate the value and marginal value functions using `xarray` interpolation, we get the following results."
   ]
  },
  {
   "cell_type": "code",
   "execution_count": null,
   "metadata": {},
   "outputs": [],
   "source": [
    "rand_ds = vfunc.evaluate({\"mNrm\": rand_states})\n",
    "rand_ds"
   ]
  },
  {
   "cell_type": "markdown",
   "metadata": {},
   "source": [
    "However, if we use the inverse value and marginal value functions to interpolate and then re-curve, the results are slightly different."
   ]
  },
  {
   "cell_type": "code",
   "execution_count": null,
   "metadata": {},
   "outputs": [],
   "source": [
    "rand_v = vfunc({\"mNrm\": rand_states})\n",
    "np.max(np.abs(rand_v - rand_ds[\"v\"]))"
   ]
  },
  {
   "cell_type": "markdown",
   "metadata": {},
   "source": [
    "The correct answer is of course, the re-curving one using `ValueFunctionCRRA`, as evidenced by the following check. As a reminder, the value function at this stage is the utility of consumption, which in the last period is the utility of the cash-on-hand."
   ]
  },
  {
   "cell_type": "code",
   "execution_count": null,
   "metadata": {
    "lines_to_next_cell": 2
   },
   "outputs": [],
   "source": [
    "rand_v - util(rand_states)"
   ]
  },
  {
   "cell_type": "markdown",
   "metadata": {
    "lines_to_next_cell": 2
   },
   "source": [
    "### Transitions\n",
    "\n",
    "Another useful feature of `xarray` is that we can easily define the state transitions. Using labels, we can define expresive equations that are easy to read and understand.\n"
   ]
  },
  {
   "cell_type": "code",
   "execution_count": null,
   "metadata": {},
   "outputs": [],
   "source": [
    "def state_transition(state=None, action=None, params=None):\n",
    "    \"\"\"\n",
    "    state to post_state transition\n",
    "    \"\"\"\n",
    "    post_state = {}  # pytree\n",
    "    post_state[\"aNrm\"] = state[\"mNrm\"] - action[\"cNrm\"]\n",
    "    return post_state\n",
    "\n",
    "\n",
    "def post_state_transition(post_state=None, params=None):\n",
    "    \"\"\"\n",
    "    post_state to next_state transition\n",
    "    \"\"\"\n",
    "    next_state = {}  # pytree\n",
    "    next_state[\"mNrm\"] = params.Rfree * post_state[\"aNrm\"] + 1\n",
    "    return next_state"
   ]
  },
  {
   "cell_type": "markdown",
   "metadata": {},
   "source": [
    "This makes it very easy to define simulations of the model given initial states and optimal actions."
   ]
  },
  {
   "cell_type": "code",
   "execution_count": null,
   "metadata": {},
   "outputs": [],
   "source": [
    "Dataset(state_transition(state, policy_function, params))"
   ]
  },
  {
   "cell_type": "code",
   "execution_count": null,
   "metadata": {},
   "outputs": [],
   "source": [
    "Dataset(post_state_transition(post_state, params))"
   ]
  },
  {
   "cell_type": "markdown",
   "metadata": {},
   "source": [
    "These transitions can also be composed."
   ]
  },
  {
   "cell_type": "code",
   "execution_count": null,
   "metadata": {
    "lines_to_next_cell": 2
   },
   "outputs": [],
   "source": [
    "Dataset(post_state_transition(state_transition(state, dataset, params), params))"
   ]
  },
  {
   "cell_type": "markdown",
   "metadata": {
    "lines_to_next_cell": 2
   },
   "source": [
    "We can even define more complex transitions where several variables are created along the way. In the example below, we define the value of an action given some initial state and continuation function, which is the value of having taken that action.\n",
    "\n",
    "The continuation value function is then the value of some initial post-decision state, which is the value of having taken that action and ending up with next period's state."
   ]
  },
  {
   "cell_type": "code",
   "execution_count": null,
   "metadata": {},
   "outputs": [],
   "source": [
    "def value_transition(action=None, state=None, continuation=None, params=None):\n",
    "    \"\"\"\n",
    "    value of action given state and continuation\n",
    "    \"\"\"\n",
    "    variables = {}  # pytree\n",
    "    post_state = state_transition(state, action, params)\n",
    "    variables.update(post_state)\n",
    "\n",
    "    variables[\"reward\"] = util(action[\"cNrm\"])\n",
    "    variables[\"v\"] = variables[\"reward\"] + params.DiscFac * continuation(post_state)\n",
    "    variables[\"v_inv\"] = util.inv(variables[\"v\"])\n",
    "\n",
    "    variables[\"marginal_reward\"] = util.der(action[\"cNrm\"])\n",
    "    variables[\"v_der\"] = variables[\"marginal_reward\"]  # envelope condition\n",
    "    variables[\"v_der_inv\"] = util.derinv(variables[\"v_der\"])\n",
    "\n",
    "    # for estimagic purposes\n",
    "    variables[\"contributions\"] = variables[\"v_inv\"]\n",
    "    variables[\"value\"] = np.sum(variables[\"v_inv\"])\n",
    "\n",
    "    return variables\n",
    "\n",
    "\n",
    "def continuation_transition(post_state=None, value_next=None, params=None):\n",
    "    \"\"\"\n",
    "    continuation value function of post_states\n",
    "    \"\"\"\n",
    "    variables = {}  # pytree\n",
    "    next_state = post_state_transition(post_state, params)\n",
    "    variables.update(next_state)\n",
    "\n",
    "    variables[\"v\"] = value_next(next_state)\n",
    "    variables[\"v_inv\"] = util.inv(variables[\"v\"])\n",
    "\n",
    "    variables[\"v_der\"] = params.Rfree * value_next.derivative(next_state)\n",
    "    variables[\"v_der_inv\"] = util.derinv(variables[\"v_der\"])\n",
    "\n",
    "    # for estimagic purposes\n",
    "    variables[\"contributions\"] = variables[\"v_inv\"]\n",
    "    variables[\"value\"] = np.sum(variables[\"v_inv\"])\n",
    "\n",
    "    return variables"
   ]
  },
  {
   "cell_type": "markdown",
   "metadata": {},
   "source": [
    "From these transitions, we can easily calculate the continuation value function as follows."
   ]
  },
  {
   "cell_type": "code",
   "execution_count": null,
   "metadata": {},
   "outputs": [],
   "source": [
    "v_end = Dataset(continuation_transition(post_state, vfunc, params))\n",
    "v_end = v_end.drop([\"mNrm\"])  # next period's mNrm is not needed\n",
    "v_end"
   ]
  },
  {
   "cell_type": "code",
   "execution_count": null,
   "metadata": {},
   "outputs": [],
   "source": [
    "wfunc = ValueFunctionCRRA(v_end, CRRA)"
   ]
  },
  {
   "cell_type": "markdown",
   "metadata": {},
   "source": [
    "For an example, we can calculate the value of taking the same action as in the last period in the second to last period. As a reminder, that action is consuming everything and saving 0."
   ]
  },
  {
   "cell_type": "code",
   "execution_count": null,
   "metadata": {},
   "outputs": [],
   "source": [
    "Dataset(value_transition(policy_function, state, wfunc, params))"
   ]
  },
  {
   "cell_type": "markdown",
   "metadata": {},
   "source": [
    "## Solving the Model\n",
    "\n",
    "It should be obvious however, that this is not the optimal action. The optimal action will consist of consuming some of the resources and saving the rest, but how much exactly to save is not straightforward. For this, we can use numerical optimizer `estimagic` to find the optimal action."
   ]
  },
  {
   "cell_type": "code",
   "execution_count": null,
   "metadata": {},
   "outputs": [],
   "source": [
    "res = em.maximize(\n",
    "    value_transition,\n",
    "    params={\"cNrm\": mVec / 2},\n",
    "    algorithm=\"scipy_lbfgsb\",\n",
    "    criterion_kwargs={\"state\": state, \"continuation\": wfunc, \"params\": params},\n",
    "    lower_bounds={\"cNrm\": np.zeros_like(mVec)},\n",
    "    upper_bounds={\"cNrm\": state[\"mNrm\"].data},\n",
    ")\n",
    "\n",
    "c_opt = DataArray(\n",
    "    res.params[\"cNrm\"],\n",
    "    name=\"cNrm\",\n",
    "    dims=state.dims,\n",
    "    coords=state.coords,\n",
    "    attrs={\"long_name\": \"consumption\"},\n",
    ")\n",
    "optimal_actions = Dataset({\"cNrm\": c_opt})\n",
    "optimal_value = Dataset(value_transition(optimal_actions, state, wfunc, params))\n",
    "grid_search = xr.merge([optimal_actions, optimal_value])\n",
    "grid_search"
   ]
  },
  {
   "cell_type": "markdown",
   "metadata": {},
   "source": [
    "As we can see by looking at the `value` variable, the optimization (grid search) method provides a higher value than the naive strategy of consuming everything. We can also easily plot what this maximization looks like."
   ]
  },
  {
   "cell_type": "code",
   "execution_count": null,
   "metadata": {},
   "outputs": [],
   "source": [
    "grid_search[\"cNrm\"].plot()"
   ]
  },
  {
   "cell_type": "markdown",
   "metadata": {},
   "source": [
    "For comparison, we can also check these results against `HARK`'s traditional model solution."
   ]
  },
  {
   "cell_type": "code",
   "execution_count": null,
   "metadata": {
    "lines_to_next_cell": 2
   },
   "outputs": [],
   "source": [
    "hark_agent = PerfForesightConsumerType(\n",
    "    CRRA=params.CRRA,\n",
    "    DiscFac=params.DiscFac,\n",
    "    Rfree=params.Rfree,\n",
    "    LivPrb=[1.0],\n",
    "    PermGroFac=[1.0],\n",
    "    BoroCnstArt=0.0,\n",
    ")\n",
    "hark_agent.solve()\n",
    "\n",
    "np.max(np.abs(hark_agent.solution[0].cFunc(mVec) - grid_search[\"cNrm\"]))"
   ]
  },
  {
   "cell_type": "markdown",
   "metadata": {
    "lines_to_next_cell": 2
   },
   "source": [
    "## Endogenous Grid Method\n",
    "\n",
    "As we can see above, the differences are very small. This is because `HARK` uses the endogenous grid method instead of a grid search method to find an optimal solution. To see the endogenous grid method in action, we can instead do the following.\n",
    "\n",
    "The endogenous grid method consists of starting from the post-decision state and deriving the optimal action that rationalizes ending up at that state.\n",
    "\n",
    "To do this, the endogenous grid method uses the first order condition of the problem, as can be seen in the `egm_transition` function. Having obtained the optimal consumption from a given post-decision state, we can now back out the starting cash-on-hand that would have induced that consumption.\n",
    "\n"
   ]
  },
  {
   "cell_type": "code",
   "execution_count": null,
   "metadata": {},
   "outputs": [],
   "source": [
    "def reverse_transition(post_state=None, action=None, params=None):\n",
    "    states = {}  # pytree\n",
    "    states[\"mNrm\"] = post_state[\"aNrm\"] + action[\"cNrm\"]\n",
    "\n",
    "    return states\n",
    "\n",
    "\n",
    "def egm_transition(post_state=None, continuation=None, params=None):\n",
    "    \"\"\"actions from post_states\"\"\"\n",
    "\n",
    "    actions = {}  # pytree\n",
    "    actions[\"cNrm\"] = util.derinv(params.DiscFac * continuation.derivative(post_state))\n",
    "\n",
    "    return actions"
   ]
  },
  {
   "cell_type": "code",
   "execution_count": null,
   "metadata": {},
   "outputs": [],
   "source": [
    "acted = egm_transition(post_state, wfunc, params)\n",
    "states = reverse_transition(post_state, acted, params)\n",
    "\n",
    "actions = Dataset(acted).swap_dims({\"aNrm\": \"mNrm\"})  # egm requires swap dimensions\n",
    "states = Dataset(states).swap_dims({\"aNrm\": \"mNrm\"})\n",
    "\n",
    "egm_dataset = xr.merge([actions, states])\n",
    "\n",
    "values = value_transition(actions, states, wfunc, params)\n",
    "egm_dataset.update(values)"
   ]
  },
  {
   "cell_type": "markdown",
   "metadata": {},
   "source": [
    "Because we have imposed an artificial borrowing constraint of 0, we can not optimize our problem at `aNrm` = 0 using the first order condition. Instead, we have to plug in these values."
   ]
  },
  {
   "cell_type": "code",
   "execution_count": null,
   "metadata": {},
   "outputs": [],
   "source": [
    "borocnst = Dataset(\n",
    "    coords={\n",
    "        \"mNrm\": 0.0,\n",
    "        \"aNrm\": 0.0,\n",
    "    },\n",
    "    data_vars={\n",
    "        \"cNrm\": 0.0,\n",
    "        \"v\": -np.inf,\n",
    "        \"v_inv\": 0.0,\n",
    "        \"reward\": -np.inf,\n",
    "        \"marginal_reward\": np.inf,\n",
    "        \"v_der\": np.inf,\n",
    "        \"v_der_inv\": 0.0,\n",
    "    },\n",
    ")\n",
    "\n",
    "egm = xr.concat([borocnst, egm_dataset], dim=\"mNrm\", combine_attrs=\"no_conflicts\")\n",
    "egm"
   ]
  },
  {
   "cell_type": "markdown",
   "metadata": {},
   "source": [
    "Now, we can compare the endogenous grid method approach with `HARK`'s solution, and see that the difference is now much smaller and numerically trivial."
   ]
  },
  {
   "cell_type": "code",
   "execution_count": null,
   "metadata": {},
   "outputs": [],
   "source": [
    "np.max(np.abs(egm[\"cNrm\"].interp({\"mNrm\": mVec}) - hark_agent.solution[0].cFunc(mVec)))"
   ]
  },
  {
   "cell_type": "markdown",
   "metadata": {},
   "source": [
    "## `ConsLabeledModels`\n",
    "\n",
    "The `ConsLabeledModels` module provides a number of models that are defined using the `xarray` framework. Below we show some simple examples of how to use these models."
   ]
  },
  {
   "cell_type": "markdown",
   "metadata": {},
   "source": [
    "### PerfForesightLabeledType\n",
    "\n",
    "The `PerfForesightLabeledType` is a perfect foresight model with a constant interest rate and a constant income, so the agent experiences no uncertainty."
   ]
  },
  {
   "cell_type": "code",
   "execution_count": null,
   "metadata": {},
   "outputs": [],
   "source": [
    "from HARK.ConsumptionSaving.ConsLabeledModel import (\n",
    "    PerfForesightLabeledType,\n",
    ")\n",
    "\n",
    "agent = PerfForesightLabeledType(cycles=0, BoroCnstArt=-1.0)\n",
    "agent.solve()"
   ]
  },
  {
   "cell_type": "code",
   "execution_count": null,
   "metadata": {},
   "outputs": [],
   "source": [
    "agent.solution[0].policy[\"cNrm\"].plot()"
   ]
  },
  {
   "cell_type": "markdown",
   "metadata": {},
   "source": [
    "The model is equivalent to `PerfForesightConsumerType` presented below."
   ]
  },
  {
   "cell_type": "code",
   "execution_count": null,
   "metadata": {},
   "outputs": [],
   "source": [
    "hark_agent = PerfForesightConsumerType(cycles=0, BoroCnstArt=-1.0)\n",
    "hark_agent.solve()"
   ]
  },
  {
   "cell_type": "code",
   "execution_count": null,
   "metadata": {},
   "outputs": [],
   "source": [
    "plot_funcs(hark_agent.solution[0].cFunc, hark_agent.solution[0].mNrmMin - 1, 25)"
   ]
  },
  {
   "cell_type": "markdown",
   "metadata": {},
   "source": [
    "The difference in the two models is small."
   ]
  },
  {
   "cell_type": "code",
   "execution_count": null,
   "metadata": {},
   "outputs": [],
   "source": [
    "np.max(\n",
    "    np.abs(\n",
    "        hark_agent.solution[0].cFunc(mVec)\n",
    "        - agent.solution[0].policy[\"cNrm\"].interp({\"mNrm\": mVec})\n",
    "    )\n",
    ")"
   ]
  },
  {
   "cell_type": "markdown",
   "metadata": {},
   "source": [
    "### `IndShockLabeledType`\n",
    "\n",
    "The `IndShockLabeledType` is a model with idiosyncratic shocks to income. The model is equivalent to `IndShockConsumerType` presented below."
   ]
  },
  {
   "cell_type": "code",
   "execution_count": null,
   "metadata": {},
   "outputs": [],
   "source": [
    "from HARK.ConsumptionSaving.ConsLabeledModel import IndShockLabeledType\n",
    "\n",
    "agent = IndShockLabeledType(cycles=0)\n",
    "agent.solve()"
   ]
  },
  {
   "cell_type": "code",
   "execution_count": null,
   "metadata": {},
   "outputs": [],
   "source": [
    "agent.solution[0].policy[\"cNrm\"].plot()"
   ]
  },
  {
   "cell_type": "code",
   "execution_count": null,
   "metadata": {},
   "outputs": [],
   "source": [
    "from HARK.ConsumptionSaving.ConsIndShockModel import IndShockConsumerType\n",
    "\n",
    "hark_agent = IndShockConsumerType(cycles=0, BoroCnstArt=None)\n",
    "hark_agent.solve()\n",
    "\n",
    "plot_funcs(hark_agent.solution[0].cFunc, hark_agent.solution[0].mNrmMin - 1, 21)"
   ]
  },
  {
   "cell_type": "markdown",
   "metadata": {},
   "source": [
    "The difference in the two models is small."
   ]
  },
  {
   "cell_type": "code",
   "execution_count": null,
   "metadata": {},
   "outputs": [],
   "source": [
    "mgrid = np.linspace(hark_agent.solution[0].mNrmMin, 20)\n",
    "np.max(\n",
    "    np.abs(\n",
    "        hark_agent.solution[0].cFunc(mgrid)\n",
    "        - agent.solution[0].policy[\"cNrm\"].interp({\"mNrm\": mgrid})\n",
    "    ),\n",
    ")"
   ]
  },
  {
   "cell_type": "markdown",
   "metadata": {},
   "source": [
    "### RiskyAssetLabeled Type\n",
    "\n",
    "The `RiskyAssetLabeledType` is a model with idiosyncratic shocks to income and a risky asset. The model is equivalent to `RiskyAssetConsumerType`."
   ]
  },
  {
   "cell_type": "code",
   "execution_count": null,
   "metadata": {},
   "outputs": [],
   "source": [
    "from HARK.ConsumptionSaving.ConsLabeledModel import RiskyAssetLabeledType\n",
    "\n",
    "agent = RiskyAssetLabeledType(cycles=0)\n",
    "agent.solve()"
   ]
  },
  {
   "cell_type": "code",
   "execution_count": null,
   "metadata": {},
   "outputs": [],
   "source": [
    "agent.solution[0].policy[\"cNrm\"].plot()\n",
    "agent.solution[0].value.dataset[\"v_inv\"].plot()\n",
    "agent.solution[0].value.dataset[\"v_der_inv\"].plot()"
   ]
  },
  {
   "cell_type": "markdown",
   "metadata": {},
   "source": [
    "### PortfolioLabeledType\n",
    "\n",
    "The `PortfolioLabeledType` is a model with idiosyncratic shocks to income and a risky asset and a portfolio choice. The model is equivalent to `PortfolioConsumerType`. First we see the consumption function."
   ]
  },
  {
   "cell_type": "code",
   "execution_count": null,
   "metadata": {},
   "outputs": [],
   "source": [
    "from HARK.ConsumptionSaving.ConsLabeledModel import PortfolioLabeledType\n",
    "\n",
    "agent = PortfolioLabeledType(cycles=0)\n",
    "agent.solve()\n",
    "agent.solution[0].policy[\"cNrm\"].plot()"
   ]
  },
  {
   "cell_type": "markdown",
   "metadata": {},
   "source": [
    "Now we can plot the optimal risky share of portfolio conditional on the initial state of market resources."
   ]
  },
  {
   "cell_type": "code",
   "execution_count": null,
   "metadata": {},
   "outputs": [],
   "source": [
    "agent.solution[0].continuation.dataset[\"stigma\"].plot()"
   ]
  }
 ],
 "metadata": {
  "jupytext": {
   "formats": "ipynb,py:percent"
  },
  "kernelspec": {
   "display_name": "Python 3 (ipykernel)",
   "language": "python",
   "name": "python3"
  },
  "language_info": {
   "codemirror_mode": {
    "name": "ipython",
    "version": 3
   },
   "file_extension": ".py",
   "mimetype": "text/x-python",
   "name": "python",
   "nbconvert_exporter": "python",
   "pygments_lexer": "ipython3",
   "version": "3.9.16"
  },
  "vscode": {
   "interpreter": {
    "hash": "ab336f3885e19cdf99951e4b73ee65835b5095c97279903ad09e0692d3a202c7"
   }
  }
 },
 "nbformat": 4,
 "nbformat_minor": 4
}
