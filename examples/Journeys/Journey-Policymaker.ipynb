{
 "cells": [
  {
   "cell_type": "markdown",
   "id": "sized-cherry",
   "metadata": {},
   "source": [
    "# Journey: HARK for Policymaker\n",
    "HARK is a powerful toolbox to solve heterogeneous agent models in discrete time. Users can run off-the shelf models or use tools to build their own agent type. While there are numerous notebooks which introduce and describe different agents and tools it might be overwhelming at first.\n",
    "\n",
    "This guide tries to introduce HARK and point out the most important resources such as notebooks, model types, and tools such that users can get quickly up to speed to analyze macroeconomic shocks. The outline for today covers:\n",
    "\n",
    "1. Introduction into HARK\n",
    "2. HARK meets SSJ\n",
    "3. Benefits of using HARK?\n",
    "\n",
    "Author: Adrian Monninger"
   ]
  },
  {
   "cell_type": "markdown",
   "id": "compliant-missouri",
   "metadata": {},
   "source": [
    "## 1. Introduction into HARK\n",
    "\n",
    "Heterogenous Agents Resources & toolKit (HARK) is a toolkit for the structural modeling of economic choices of optimizing and non-optimizing heterogeneous agents.\n",
    "\n",
    "The open-source project [Econ-ark](https://github.com/econ-ark) contains the three main repositories [HARK](https://github.com/econ-ark/HARK), [DemARK](https://github.com/econ-ark/DemARK), and [RemARK](https://github.com/econ-ark/RemARK). On top of that, there is a [website](https://econ-ark.org/) and an [online documentation](https://hark.readthedocs.io/en/latest/) with useful descriptions and references to specific notebooks.\n",
    "\n",
    "- HARK: Includes the source code as well as some example notebooks of how to use AgentTypes, tools, and MarketClasses\n",
    "- DemARK: Demonstrations of economic models using HARK.\n",
    "    - [Fisher Two Period](https://github.com/econ-ark/DemARK/blob/master/notebooks/FisherTwoPeriod.ipynb)\n",
    "    - [Diamond OLG](https://github.com/econ-ark/DemARK/blob/master/notebooks/DiamondOLG.ipynb)\n",
    "    - [Lucas Asset Pricing](https://github.com/econ-ark/DemARK/blob/master/notebooks/Lucas-Asset-Pricing-Model.ipynb)\n",
    "- RemARK: R[eplications/eproductions] and Explorations Made using ARK.\n",
    "    - [Carroll, Slacalek, Tokuoka, White (2017): The distribution of wealth and the marginal propensity to consume](https://github.com/econ-ark/REMARK/blob/master/REMARKs/cstwMPC.md)\n",
    "    - [Cocco, Gomes, Maenhout (2005): Consumption and portfolio choice over the life cycle](https://github.com/econ-ark/REMARK/blob/master/REMARKs/CGMPortfolio.md)\n",
    "    - [Krusell, Smith (1998): Income and wealth heterogeneity in the macroeconomy](https://github.com/econ-ark/REMARK/blob/master/REMARKs/KrusellSmith.md)\n",
    "    - ..."
   ]
  },
  {
   "cell_type": "markdown",
   "id": "close-timeline",
   "metadata": {},
   "source": [
    "## 1.1 Structure\n",
    "HARK has two types of classes. One for the micro level called: `AgentType` and one for the macro level called: `Market`. Today, we will focus on the AgentType and use the sequence space toolbox for the macro level."
   ]
  },
  {
   "cell_type": "markdown",
   "id": "wrapped-dancing",
   "metadata": {},
   "source": [
    "To understand the microeconomic models in HARK, you need to have some concept of the Agent-type class structure. In HARK more advanced models are subclasses of the more primitive ones. The diagram, illustrates this structure: the deterministic class `PerfForesightConsumerType`, is then a parent for the class of the consumers with idiosyncratic income shocks `IndShockConsumerType`. Next there is a class with the idiosyncratic and aggregate income shocks `𝙼𝚊𝚛𝚔𝚘𝚟ConsumerType`. However, it is not the end! There are subclass of the `AggShockConsumerType` which are designed to be integrated with the macroeconomic models, as well as there are many other subclasses.\n",
    "\n",
    "![HARK structure](HARK_struct_2.png)"
   ]
  },
  {
   "cell_type": "markdown",
   "id": "rational-refund",
   "metadata": {},
   "source": [
    "## 1.2 Example: `IndShockConsumerType`\n",
    "The `IndShockConsumerType` is our standard consumer that receives two income shocks at the beginning of each period: a completely transitory shock $\\newcommand{\\tShkEmp}{\\theta}{\\tShkEmp_t}$ and a completely permanent shock $\\newcommand{\\pShk}{\\psi}{\\pShk_t}$.  Moreover, the agent is subject to borrowing a borrowing limit: the ratio of end-of-period assets $A_t$ to permanent income $P_t$ must be greater than $\\underline{a}$. As with most problems in HARK, this model is stated in terms of *normalized* variables, dividing all real variables by $P_t$:\n",
    "\n",
    "\\begin{eqnarray*}\n",
    "v_t(m_t) &=& \\max_{c_t} {~} u(c_t) + \\beta (1-D_{t+1})  \\mathbb{E}_{t} \\left[ (\\Gamma{t+1}\\psi_{t+1})^{1-\\rho} v_{t+1}(m_{t+1}) \\right], \\\\\n",
    "a_t &=& m_t - c_t, \\\\\n",
    "a_t &\\geq& \\text{$\\underline{a}$}, \\\\\n",
    "m_{t+1} &=& R/(\\Gamma_{t+1} \\psi_{t+1}) a_t + \\theta_{t+1}, \\\\\n",
    "(\\psi_{t+1},\\theta_{t+1}) &\\sim& F_{t+1}, \\\\\n",
    "\\mathbb{E}[\\psi]=\\mathbb{E}[\\theta] &=& 1, \\\\\n",
    "u(c) &=& \\frac{c^{1-\\rho}}{1-\\rho}.\n",
    "\\end{eqnarray*}\n",
    "\n",
    "The object-oriented programming language makes it extremely easy to [use](https://github.com/econ-ark/HARK/blob/master/examples/ConsIndShockModel/IndShockConsumerType.ipynb). A small illustration is below solving an infinite horizon and lifecycle problem.\n",
    "\n",
    "\n"
   ]
  },
  {
   "cell_type": "code",
   "execution_count": 1,
   "id": "happy-drive",
   "metadata": {},
   "outputs": [],
   "source": [
    "from HARK.ConsumptionSaving.ConsIndShockModel import IndShockConsumerType, init_idiosyncratic_shocks\n",
    "from HARK.utilities import plot_funcs_der, plot_funcs\n",
    "import matplotlib.pyplot as plt\n",
    "import numpy as np"
   ]
  },
  {
   "cell_type": "markdown",
   "id": "minus-gabriel",
   "metadata": {},
   "source": [
    "### An infinite horizon Problem"
   ]
  },
  {
   "cell_type": "code",
   "execution_count": 2,
   "id": "sized-harrison",
   "metadata": {},
   "outputs": [],
   "source": [
    "# Create agent\n",
    "IndShockExample_inf = IndShockConsumerType(**init_idiosyncratic_shocks, verbose = False)\n",
    "IndShockExample_inf.cycles = 0 # Make this type have an infinite horizon"
   ]
  },
  {
   "cell_type": "code",
   "execution_count": 3,
   "id": "processed-commerce",
   "metadata": {},
   "outputs": [],
   "source": [
    "# Solve\n",
    "IndShockExample_inf.solve()"
   ]
  },
  {
   "cell_type": "code",
   "execution_count": 4,
   "id": "special-identification",
   "metadata": {},
   "outputs": [
    {
     "name": "stdout",
     "output_type": "stream",
     "text": [
      "Consumption function for an idiosyncratic shocks consumer type:\n"
     ]
    },
    {
     "data": {
      "image/png": "[encoded data removed]",
      "text/plain": [
       "<Figure size 432x288 with 1 Axes>"
      ]
     },
     "metadata": {
      "needs_background": "light"
     },
     "output_type": "display_data"
    },
    {
     "name": "stdout",
     "output_type": "stream",
     "text": [
      "Marginal propensity to consume for an idiosyncratic shocks consumer type:\n"
     ]
    },
    {
     "data": {
      "image/png": "[encoded data removed]",
      "text/plain": [
       "<Figure size 432x288 with 1 Axes>"
      ]
     },
     "metadata": {
      "needs_background": "light"
     },
     "output_type": "display_data"
    }
   ],
   "source": [
    "# Show\n",
    "print('Consumption function for an idiosyncratic shocks consumer type:')\n",
    "plot_funcs(IndShockExample_inf.solution[0].cFunc, IndShockExample_inf.solution[0].mNrmMin,5)\n",
    "print('Marginal propensity to consume for an idiosyncratic shocks consumer type:')\n",
    "plot_funcs_der(IndShockExample_inf.solution[0].cFunc, IndShockExample_inf.solution[0].mNrmMin,5)"
   ]
  },
  {
   "cell_type": "markdown",
   "id": "taken-judges",
   "metadata": {},
   "source": [
    "### A lifecycle Problem"
   ]
  },
  {
   "cell_type": "code",
   "execution_count": 5,
   "id": "adjusted-sucking",
   "metadata": {},
   "outputs": [
    {
     "name": "stdout",
     "output_type": "stream",
     "text": [
      "First element of solution is <HARK.ConsumptionSaving.ConsIndShockModel.ConsumerSolution object at 0x7fbe55e38c40>\n",
      "Solution has 11 elements.\n"
     ]
    }
   ],
   "source": [
    "LifecycleExample = IndShockConsumerType(**init_idiosyncratic_shocks)\n",
    "LifecycleExample.cycles = 1 # Make this consumer live a sequence of periods -- a lifetime -- exactly once\n",
    "LifecycleExample.T_cycle = 10 # Specify the number of periods (T_cycles + terminal period)\n",
    "# Adapt the time varying parameter. As you can see, you can specify different values for each period.\n",
    "LifecycleExample.PermShkStd = [0.1,0.2,0.1,0.2,0.1,0.2,0.1,0,0,0] \n",
    "LifecycleExample.TranShkStd = [0.3,0.2,0.1,0.3,0.2,0.1,0.3,0,0,0]\n",
    "LifecycleExample.LivPrb = [0.99,0.9,0.8,0.7,0.6,0.5,0.4,0.3,0.2,0.1]\n",
    "LifecycleExample.PermGroFac = [1.01,1.01,1.01,1.02,1.02,1.02,0.7,1.0,1.0,1.0]\n",
    "LifecycleExample.update_income_process()\n",
    "LifecycleExample.solve()\n",
    "print('First element of solution is',LifecycleExample.solution[0])\n",
    "print('Solution has', len(LifecycleExample.solution),'elements.')"
   ]
  },
  {
   "cell_type": "code",
   "execution_count": 6,
   "id": "dated-washington",
   "metadata": {},
   "outputs": [
    {
     "name": "stdout",
     "output_type": "stream",
     "text": [
      "Consumption functions across the lifecycle:\n"
     ]
    },
    {
     "data": {
      "image/png": "[encoded data removed]",
      "text/plain": [
       "<Figure size 432x288 with 1 Axes>"
      ]
     },
     "metadata": {
      "needs_background": "light"
     },
     "output_type": "display_data"
    }
   ],
   "source": [
    "print('Consumption functions across the lifecycle:')\n",
    "mMin = np.min([LifecycleExample.solution[t].mNrmMin for t in range(LifecycleExample.T_cycle)])\n",
    "LifecycleExample.unpack('cFunc') # This makes all of the cFuncs accessible in the attribute cFunc\n",
    "plot_funcs(LifecycleExample.cFunc,mMin,5)"
   ]
  },
  {
   "cell_type": "markdown",
   "id": "positive-insulation",
   "metadata": {},
   "source": [
    "### 2.3 Simulation\n",
    "After we solved the model backwards, we can simulate agents forward using Monte Carlo or [Transition Matrices](https://github.com/econ-ark/HARK/tree/master/examples/ConsIndShockModel/IndShockConsumerType_Transition_Matrix_Example.ipynb). These results can be used for in-model regressions or plotting distributions of assets or consumption."
   ]
  },
  {
   "cell_type": "code",
   "execution_count": 7,
   "id": "charitable-excuse",
   "metadata": {},
   "outputs": [
    {
     "name": "stderr",
     "output_type": "stream",
     "text": [
      "/tmp/ipykernel_4158/3482875258.py:4: RuntimeWarning: divide by zero encountered in log\n",
      "  IndShockExample_inf.aNrmInitMean = np.log(0.0)        # Mean of log initial assets. The value of np.log(0.0) causes the code to ensure\n"
     ]
    },
    {
     "data": {
      "text/plain": [
       "{'aNrm': array([[0.13477216, 0.13477216, 0.13477216, ..., 0.13477216, 0.13477216,\n",
       "         0.13477216],\n",
       "        [0.18458863, 0.19472881, 0.36019685, ..., 0.24694693, 0.23423864,\n",
       "         0.19472881],\n",
       "        [0.2340878 , 0.19611905, 0.39512942, ..., 0.35783107, 0.32784551,\n",
       "         0.31228166],\n",
       "        ...,\n",
       "        [0.76610173, 0.38338584, 0.79046548, ..., 0.46714871, 0.45734795,\n",
       "         0.74678884],\n",
       "        [0.76745896, 0.35495771, 0.77488497, ..., 0.65295079, 0.42983132,\n",
       "         0.80784208],\n",
       "        [0.86080718, 0.33702144, 0.73464255, ..., 0.52513369, 0.55314374,\n",
       "         0.77669275]]),\n",
       " 'mNrm': array([[1.        , 1.        , 1.        , ..., 1.        , 1.        ,\n",
       "         1.        ],\n",
       "        [1.07996621, 1.09577145, 1.33687803, ..., 1.17503056, 1.15603281,\n",
       "         1.09577145],\n",
       "        [1.15580731, 1.09793838, 1.38440091, ..., 1.33359968, 1.29204745,\n",
       "         1.27001928],\n",
       "        ...,\n",
       "        [1.84083916, 1.36890351, 1.86956737, ..., 1.47822901, 1.46590501,\n",
       "         1.81792705],\n",
       "        [1.84244932, 1.32961794, 1.85125928, ..., 1.70610176, 1.43019525,\n",
       "         1.88993885],\n",
       "        [1.95203253, 1.30476291, 1.80351712, ..., 1.55094406, 1.58518537,\n",
       "         1.85340397]]),\n",
       " 'cNrm': array([[0.86522784, 0.86522784, 0.86522784, ..., 0.86522784, 0.86522784,\n",
       "         0.86522784],\n",
       "        [0.89537758, 0.90104264, 0.97668119, ..., 0.92808363, 0.92179417,\n",
       "         0.90104264],\n",
       "        [0.92171951, 0.90181933, 0.98927149, ..., 0.97576861, 0.96420194,\n",
       "         0.95773763],\n",
       "        ...,\n",
       "        [1.07473743, 0.98551766, 1.07910189, ..., 1.01108029, 1.00855706,\n",
       "         1.07113821],\n",
       "        [1.07499037, 0.97466023, 1.07637431, ..., 1.05315097, 1.00036393,\n",
       "         1.08209677],\n",
       "        [1.09122535, 0.96774147, 1.06887458, ..., 1.02581037, 1.03204163,\n",
       "         1.07671121]]),\n",
       " 'pLvl': array([[0.85893446, 0.92780942, 0.85893446, ..., 0.96867555, 0.96867555,\n",
       "         0.96867555],\n",
       "        [0.93517011, 0.8987463 , 0.93517011, ..., 0.93833233, 0.83202881,\n",
       "         0.93833233],\n",
       "        [1.10169606, 0.83386528, 0.80324983, ..., 1.10542138, 0.90587642,\n",
       "         0.94303961],\n",
       "        ...,\n",
       "        [1.17282113, 1.57006068, 1.2929715 , ..., 1.05848796, 1.37445963,\n",
       "         0.99004756],\n",
       "        [1.27691612, 1.84964174, 1.34823004, ..., 1.02533141, 1.18057074,\n",
       "         0.85038597],\n",
       "        [1.09678726, 2.17900786, 1.46789363, ..., 1.03047513, 1.39079524,\n",
       "         0.8237481 ]]),\n",
       " 'aLvl': array([[0.11576045, 0.12504288, 0.11576045, ..., 0.13055049, 0.13055049,\n",
       "         0.13055049],\n",
       "        [0.17262177, 0.17501179, 0.33684532, ..., 0.23171828, 0.1948933 ,\n",
       "         0.18272033],\n",
       "        [0.25789361, 0.16353687, 0.31738764, ..., 0.39555412, 0.29698752,\n",
       "         0.29449397],\n",
       "        ...,\n",
       "        [0.8985003 , 0.60193903, 1.02204933, ..., 0.49447129, 0.6286063 ,\n",
       "         0.73935647],\n",
       "        [0.97998071, 0.65654459, 1.04472319, ..., 0.66949095, 0.50744629,\n",
       "         0.68697757],\n",
       "        [0.94412235, 0.73437236, 1.07837712, ..., 0.54113721, 0.76930968,\n",
       "         0.63979918]])}"
      ]
     },
     "execution_count": 7,
     "metadata": {},
     "output_type": "execute_result"
    }
   ],
   "source": [
    "# Specify parameters for the simulation\n",
    "IndShockExample_inf.AgentCount = 5000                 # Number of agents of this type\n",
    "IndShockExample_inf.T_sim = 1000                      # Number of periods to simulate\n",
    "IndShockExample_inf.aNrmInitMean = np.log(0.0)        # Mean of log initial assets. The value of np.log(0.0) causes the code to ensure \n",
    "                                                      # newborns have have exactly 1.0 in market resources.\n",
    "# i) Specify the variables you are interested in\n",
    "IndShockExample_inf.track_vars = ['aNrm','mNrm','cNrm','pLvl', 'aLvl']\n",
    "# ii) Initiate simulation\n",
    "IndShockExample_inf.initialize_sim()\n",
    "# iii) run it\n",
    "IndShockExample_inf.simulate()"
   ]
  },
  {
   "cell_type": "code",
   "execution_count": 8,
   "id": "amber-duration",
   "metadata": {},
   "outputs": [
    {
     "data": {
      "image/png": "[encoded data removed]",
      "text/plain": [
       "<Figure size 432x288 with 1 Axes>"
      ]
     },
     "metadata": {
      "needs_background": "light"
     },
     "output_type": "display_data"
    }
   ],
   "source": [
    "from HARK.utilities import get_lorenz_shares, get_percentiles\n",
    "pctiles = np.linspace(0.001, 0.999, 200)\n",
    "sim_Lorenz_points = get_lorenz_shares(IndShockExample_inf.state_now[\"aLvl\"], percentiles=pctiles)\n",
    "plt.plot(pctiles, pctiles, \"--\")\n",
    "plt.plot(pctiles, sim_Lorenz_points, \"-b\")\n",
    "plt.xlabel(\"Percentile of net worth\")\n",
    "plt.ylabel(\"Cumulative share of wealth\")\n",
    "plt.show(block=False)"
   ]
  },
  {
   "cell_type": "markdown",
   "id": "joined-conversation",
   "metadata": {},
   "source": [
    "# 2. HARK meets SSJ\n",
    "HARK offers an extreme amount of flexibility solving the heterogeneous block in partial equilibrium. To include the general equilibrium parts, there are multiple options depending on your purpose. You could use the in-house [`MarketType`](https://github.com/econ-ark/HARK/blob/master/examples/ConsumptionSaving/example_ConsAggShockModel.ipynb) to model your economy in which the agent lives or check out how we implemented [Krusell-Smith](https://github.com/econ-ark/KrusellSmith/blob/master/Code/Python/KrusellSmith.ipynb).\n",
    "\n",
    "TODAY, we look at the interlinkage of HARK with the [Sequence Space Jacobian Toolbox](https://github.com/shade-econ/sequence-jacobian) you are already familiar with. (If not, take a look at their example notebooks or (re-)take the [NBER workshop from 2022](https://github.com/shade-econ/nber-workshop-2022))\n",
    "\n",
    "The idea is to use HARK for the heterogeneous household part, solve the steady state values and jacobians, plug them in the sequence space toolbox and get all their nice functions for free! This is a way to combine the flexibility of HARK on the heterogeneity part and the fast and user-friendly general equilibrium part from SSJ."
   ]
  },
  {
   "cell_type": "markdown",
   "id": "taken-smooth",
   "metadata": {},
   "source": [
    "Let's get into an introduction example [here](https://github.com/AMonninger/REMARK-ECB/blob/master/code/python/IndShockConsumerType_HANK.ipynb)."
   ]
  },
  {
   "cell_type": "markdown",
   "id": "literary-horizon",
   "metadata": {},
   "source": [
    "## 3. Why use HARK?\n",
    "The question might now arrise: Why should I learn a new Toolkit and not stick to SSJ completely. Why does it make sense to specify the heterogeneous block in HARK and not simply stick to the off-the-shelf hetblocks?\n",
    "\n",
    "The short answer is: HARK allows a lot of flexibility on the heterogeneous agent part! It enables the user to match mircoeconomic facts, introduce additional features such as retirement decisions or whole markets (risky asset, durable goods, labor) as well.\n",
    "\n",
    "Below, we look into two examples which use HARK and manage to match the liquid asset distribution. Afterwards, we highlight some agenttypes with additional features, and give a starting point if you want to build your own Agent."
   ]
  },
  {
   "cell_type": "markdown",
   "id": "cutting-battlefield",
   "metadata": {},
   "source": [
    "### 3.1 Targeting liquid asset distribution\n",
    "In the [HARK meets SSJ notebook](https://github.com/AMonninger/REMARK-ECB/blob/master/code/python/IndShockConsumerType_HANK.ipynb), we targeted mean assets (SSJ targets mean MPC). But, what about the whole distribution? The importance of this is the difference between TANK and HANK: Households with large, but below one, MPCs respond to a shock not only in the period when the shock occurs, but in the subsequent periods as well. Those i(ntertermporal)MPCs are quantitatively relevant (see [Auclert et al 2018](https://www.nber.org/papers/w25020)) and shape the persistance of response functions.\n",
    "\n",
    "HARK gives you the means to tweak your model such that you can match the asset, and with it the MPC, distribution. "
   ]
  },
  {
   "cell_type": "markdown",
   "id": "attended-programmer",
   "metadata": {},
   "source": [
    "For instance, Carroll, Slacalek, Tokuoka, and White (2017) show that by having small ex-ante hetoerogeneity in discount rates, you can match the Lorenz curve remarkably well. The results can be seen below. If you want to redo the analysis check out this [demonstration](https://github.com/econ-ark/DemARK/blob/master/notebooks/Micro-and-Macro-Implications-of-Very-Impatient-HHs.ipynb) or [replication](https://github.com/econ-ark/DistributionOfWealthMPC).\n",
    "\n",
    "![Lorenz_DisCount](LorenzcurveDiscRate.png)"
   ]
  },
  {
   "cell_type": "markdown",
   "id": "fiscal-youth",
   "metadata": {},
   "source": [
    "A recent paper by [Carroll, Crawley, Frankovic, and Tretvoll](https://github.com/llorracc/HAFiscal) matches the intertemporal MPC in addition to the wealth distribution. For this, they add a 'splurge' factor; households spend each period a fixed fraction of their labor income.\n",
    "\n",
    "Below is figure one from Carroll et al. With such a heterogeneous agent part in your quantitative HANK model allows you to make serious claims about quantitative changes from interest rate or government spending shocks.\n",
    "\n",
    "![HAFiscal_Fig](HAFiscalFig1.png)"
   ]
  },
  {
   "cell_type": "markdown",
   "id": "protecting-tractor",
   "metadata": {},
   "source": [
    "### 3.2 Other HARK agents\n",
    "There are many more off-the-shelf agents waiting to be used. Including additional features, allows you to analyse other markets as well. Note, that you can solve and simulate them already, BUT the jacobians are not ready yet!\n",
    "\n",
    "For a list, click [here](https://github.com/econ-ark/HARK/tree/master/HARK/ConsumptionSaving). Below some notable examples which solve problems with discrete choice. For them, the standard `HetBlock` of SSJ is not capable of solving.\n",
    "\n",
    "#### a) [Portfolio Choice](https://github.com/econ-ark/HARK/blob/master/examples/ConsPortfolioModel/example_ConsPortfolioModel.ipynb)\n",
    "\n",
    "Using the `PortfolioConsumerType` allows you to add risky assets to a one-asset model. A baseline [Lifecycle and Portfolio choice](https://github.com/econ-ark/REMARK/blob/master/REMARKs/CGMPortfolio.md) model a la Cocco, Gomes, & Maenhout (2005) is already implemented. Depending on your question, you can\n",
    "- specify a share of risky asset holder exogeneously\n",
    "- specify an exogeneous probability (a la calvo) with which agents can rebalance their portfolio (see [Luettike 2021](https://www.ralphluetticke.com/publication/aermacro_2020/) for an example)\n",
    "- solve the share endogeneously with participation and transsaction costs \n",
    "- vary returns by age\n",
    "- ...\n",
    "\n",
    "For a life demonstration invite [Mateo](https://mv77.github.io/). In his JMP, he utilizes household expectations of stock returns to explain the equity premium puzzle.\n",
    "\n",
    "#### b) Search and matching model\n",
    "\n",
    "[Will](https://github.com/wdu9) combines a HANK with a Search and Match Model. For this, he uses the `ConsMarkovConsumerType` which can handle mutliple (employment) states. As a result, the model allows him to endogenize wage and unemployment dynamics.\n",
    "Invite Will to present once his first draft is ready.\n",
    "\n",
    "\n",
    "#### c) [Durable Good](https://github.com/AMonninger/DurableConsumerType_REMARK/blob/main/code/python/DurableModel_Notebook.ipynb)      \n",
    "\n",
    "Using `DurableConsumerType` allows you to solve a household problem with non-durable and durable goods, where the adjustment of the durable stock entails a non-convex cost. This opens doors to analyze business cycle fluctuations of durable good demand, prices, as well as sectoral labor markets.\n",
    "\n",
    "[My](https://github.com/AMonninger) JMP uses this agent in a partial and general equilibrium context. For this, I show how unemployment expectations drive durable consumption fluctuations. Matching consumption dynamics of durables and non-durables allows me to re-evaulate the impact of fiscal and monetary policy. I'm happy to present this in the near future."
   ]
  },
  {
   "cell_type": "markdown",
   "id": "dense-disaster",
   "metadata": {},
   "source": [
    "### 3.3 Build your own Agent\n",
    "In case your research question requires additional featuers off-the-shelf models do not have, you can add them relatively easy! As seen above, agents inherit features from other agents. Hence, search for the closest agenttype and replace the parts you want to change."
   ]
  },
  {
   "cell_type": "markdown",
   "id": "increasing-testing",
   "metadata": {},
   "source": [
    "#### a) Understanding the code\n",
    "Obviously, the most important thing is to understand the structure of the code. Then you can think about which code to replace and how.\n",
    "A good starting point is this [notebook](https://github.com/econ-ark/HARK/blob/master/examples/HowWeSolveIndShockConsumerType/HowWeSolveIndShockConsumerType.ipynb) describing how we solve the `IndShockConsumerType`. Afterwards, look at the source code of other models which build on this one eg [`IndShockRiskyAssetConsumerType`](https://github.com/econ-ark/HARK/blob/master/HARK/ConsumptionSaving/ConsRiskyAssetModel.py) and observe how the replacement works."
   ]
  },
  {
   "cell_type": "markdown",
   "id": "functional-wales",
   "metadata": {},
   "source": [
    "#### b) Use our tools\n",
    "We update our toolbox constantly. Hence, there might be something in for your current problem. For many of them exist notebooks to showcase their function.\n",
    "\n",
    "Useful examples are:\n",
    "- [DCEGM-Upper-Envelope](https://github.com/econ-ark/DemARK/blob/master/notebooks/DCEGM-Upper-Envelope.ipynb): To solve problems with nonconex value functions due to discrete choices\n",
    "- [Harmenberg-Aggregation](https://github.com/econ-ark/DemARK/blob/master/notebooks/Harmenberg-Aggregation.ipynb): Aggregating distributions with a permanent-income-weighting\n",
    "- [DecayInterp](https://github.com/econ-ark/HARK/tree/master/examples/Interpolation/DecayInterp.ipynb): Interpolation with decay which can be used if there exist an analytical limit\n",
    "- ..."
   ]
  },
  {
   "cell_type": "markdown",
   "id": "actual-washer",
   "metadata": {},
   "source": [
    "# Conclusion\n",
    "In this journey you have learned how to use the `IndShockConsumer` and how to use its features in the partial equilibrium case. Afterwards, we have seen how easy it is to connect HARK to the sequence space toolbox in order to generate the general equilibrium blocks.\n",
    "\n",
    "The selling point of HARK is its flexibility in the heterogeneous agent blocks. We can allow for features such as ex-ante heterogeneity in discount rates to match the asset distribution and use the resulting jacobians to get IRFs from SSJ. Hence, analysing monetary and fiscal policy responses get more accurate!\n",
    "\n",
    "But, you don't have to stop there. HARK allows you to introduce the kind of heteroegeneity you need. Therefore, you are not restricted by the tools to answer your questions, but can start with the questions and define your tools after them!"
   ]
  },
  {
   "cell_type": "markdown",
   "id": "satisfied-robinson",
   "metadata": {},
   "source": [
    "# References\n",
    "Carroll, C., Slacalek, J., Tokuoka, K., & White, M. N. (2017). The distribution of wealth and the marginal propensity to consume. Quantitative Economics, 8(3), 977-1020.\n",
    "\n",
    "Cocco, J. F., Gomes, F. J., & Maenhout, P. J. (2005). Consumption and portfolio choice over the life cycle. The Review of Financial Studies, 18(2), 491-533.\n",
    "\n",
    "Krusell, P., & Smith, Jr, A. A. (1998). Income and wealth heterogeneity in the macroeconomy. Journal of political Economy, 106(5), 867-896."
   ]
  }
 ],
 "metadata": {
  "kernelspec": {
   "display_name": "Python 3 (ipykernel)",
   "language": "python",
   "name": "python3"
  },
  "language_info": {
   "codemirror_mode": {
    "name": "ipython",
    "version": 3
   },
   "file_extension": ".py",
   "mimetype": "text/x-python",
   "name": "python",
   "nbconvert_exporter": "python",
   "pygments_lexer": "ipython3",
   "version": "3.8.11"
  },
  "widgets": {
   "application/vnd.jupyter.widget-state+json": {
    "state": {},
    "version_major": 2,
    "version_minor": 0
   }
  }
 },
 "nbformat": 4,
 "nbformat_minor": 5
}
