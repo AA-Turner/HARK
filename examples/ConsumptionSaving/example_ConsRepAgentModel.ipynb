{
 "cells": [
  {
   "cell_type": "code",
   "execution_count": null,
   "metadata": {},
   "outputs": [],
   "source": [
    "from copy import deepcopy\n",
    "from time import time\n",
    "import numpy as np\n",
    "from HARK.utilities import plotFuncs\n",
    "from HARK.ConsumptionSaving.ConsIndShockModel import (\n",
    "    init_idiosyncratic_shocks\n",
    ")\n",
    "\n",
    "from HARK.ConsumptionSaving.ConsRepAgentModel import (\n",
    "    RepAgentConsumerType,\n",
    "    RepAgentMarkovConsumerType,\n",
    ")"
   ]
  },
  {
   "cell_type": "markdown",
   "metadata": {},
   "source": [
    "This module contains models for solving representative agent (RA) macroeconomic models. This stands in contrast to all other model modules in HARK, which (unsurprisingly) take a heterogeneous agents approach.  \n",
    "In RA models, all attributes are either time invariant or exist on a short cycle. Also, models must be infinite horizon."
   ]
  },
  {
   "cell_type": "markdown",
   "metadata": {},
   "source": [
    "The agent's problem can be written in Bellman form as:\n",
    "\n",
    "\\begin{eqnarray*}\n",
    "v_t(M_t,p_t, medShk_t) &=& \\max_{c_t, med_t} U(c_t, med_t) + \\beta (1-\\mathsf{D}_{t+1}) \\mathbb{E} [v_{t+1}(M_{t+1}, p_{t+1}, medShk_{t+1})], \\\\\n",
    "a_t &=& M_t - c_t, \\\\\n",
    "a_t &\\geq& \\underline{a}, \\\\\n",
    "M_{t+1} &=& R a_t + \\theta_{t+1}, \\\\\n",
    "p_{t+1} &=& \\gimel_{t+1}(p_t)\\psi_{t+1}, \\\\\n",
    "medShk_{t+1} &=&   ,\\\\\n",
    "\\psi_t \\sim F_{\\psi t} &\\qquad&  \\theta_t \\sim F_{\\theta t}, \\mathbb{E} [F_{\\psi t}] = 1, \\\\\n",
    "U(c, med) &=& \\frac{c^{1-\\rho}}{1-\\rho}\\frac{med^{1-\\rho_{med}}}{1-\\rho_{med}}.\n",
    "\\end{eqnarray*}"
   ]
  },
  {
   "cell_type": "markdown",
   "metadata": {},
   "source": [
    "The one period problem for this model is solved by the function $\\texttt{solveConsMedShock}$, which creates an instance of the class $\\texttt{ConsMedShockSolver}$. The class $\\texttt{MedShockConsumerType}$ extends $\\texttt{PersistentShockConsumerType}$ from $\\texttt{GenIncProcessModel}$ to represents agents in this model."
   ]
  },
  {
   "cell_type": "code",
   "execution_count": null,
   "metadata": {},
   "outputs": [],
   "source": [
    "# Make a quick example dictionary\n",
    "RA_params = deepcopy(init_idiosyncratic_shocks)\n",
    "RA_params[\"DeprFac\"] = 0.05\n",
    "RA_params[\"CapShare\"] = 0.36\n",
    "RA_params[\"UnempPrb\"] = 0.0\n",
    "RA_params[\"LivPrb\"] = [1.0]"
   ]
  },
  {
   "cell_type": "code",
   "execution_count": null,
   "metadata": {},
   "outputs": [],
   "source": [
    "# Make and solve a rep agent model\n",
    "RAexample = RepAgentConsumerType(**RA_params)\n",
    "t_start = time()\n",
    "RAexample.solve()\n",
    "t_end = time()\n",
    "print(\n",
    "    \"Solving a representative agent problem took \" + str(t_end - t_start) + \" seconds.\"\n",
    ")\n",
    "plotFuncs(RAexample.solution[0].cFunc, 0, 20)"
   ]
  },
  {
   "cell_type": "code",
   "execution_count": null,
   "metadata": {},
   "outputs": [],
   "source": [
    "# Simulate the representative agent model\n",
    "RAexample.T_sim = 2000\n",
    "RAexample.track_vars = ['cNrm', 'mNrm', \"Rfree\", \"wRte\"]\n",
    "RAexample.initializeSim()\n",
    "t_start = time()\n",
    "RAexample.simulate()\n",
    "t_end = time()\n",
    "print(\n",
    "    \"Simulating a representative agent for \"\n",
    "    + str(RAexample.T_sim)\n",
    "    + \" periods took \"\n",
    "    + str(t_end - t_start)\n",
    "    + \" seconds.\"\n",
    ")"
   ]
  },
  {
   "cell_type": "code",
   "execution_count": null,
   "metadata": {},
   "outputs": [],
   "source": [
    "# Make and solve a Markov representative agent\n",
    "RA_markov_params = deepcopy(RA_params)\n",
    "RA_markov_params[\"PermGroFac\"] = [[0.97, 1.03]]\n",
    "RA_markov_params[\"MrkvArray\"] = np.array([[0.99, 0.01], [0.01, 0.99]])\n",
    "RA_markov_params[\"Mrkv\"] = 0\n",
    "RAmarkovExample = RepAgentMarkovConsumerType(**RA_markov_params)\n",
    "RAmarkovExample.IncomeDstn[0] = 2 * [RAmarkovExample.IncomeDstn[0]]\n",
    "t_start = time()\n",
    "RAmarkovExample.solve()\n",
    "t_end = time()\n",
    "print(\n",
    "    \"Solving a two state representative agent problem took \"\n",
    "    + str(t_end - t_start)\n",
    "    + \" seconds.\"\n",
    ")\n",
    "plotFuncs(RAmarkovExample.solution[0].cFunc, 0, 10)"
   ]
  },
  {
   "cell_type": "code",
   "execution_count": null,
   "metadata": {},
   "outputs": [],
   "source": [
    "# Simulate the two state representative agent model\n",
    "RAmarkovExample.T_sim = 2000\n",
    "RAmarkovExample.track_vars = ['cNrm', 'mNrm', \"Rfree\", \"wRte\", \"MrkvNow\"]\n",
    "RAmarkovExample.initializeSim()\n",
    "t_start = time()\n",
    "RAmarkovExample.simulate()\n",
    "t_end = time()\n",
    "print(\n",
    "    \"Simulating a two state representative agent for \"\n",
    "    + str(RAexample.T_sim)\n",
    "    + \" periods took \"\n",
    "    + str(t_end - t_start)\n",
    "    + \" seconds.\"\n",
    ")"
   ]
  }
 ],
 "metadata": {
  "jupytext": {
   "cell_metadata_filter": "-all",
   "main_language": "python",
   "notebook_metadata_filter": "-all"
  }
 },
 "nbformat": 4,
 "nbformat_minor": 4
}
