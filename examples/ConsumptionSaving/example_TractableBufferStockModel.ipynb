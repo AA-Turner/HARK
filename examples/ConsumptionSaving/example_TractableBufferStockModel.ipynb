{
 "cells": [
  {
   "cell_type": "code",
   "execution_count": 1,
   "metadata": {},
   "outputs": [],
   "source": [
    "import numpy as np  # numeric Python\n",
    "from HARK.distribution import DiscreteDistribution\n",
    "from HARK.utilities import plot_funcs  # basic plotting tools\n",
    "from HARK.ConsumptionSaving.ConsMarkovModel import (\n",
    "    MarkovConsumerType,\n",
    ")  # An alternative, much longer way to solve the TBS model\n",
    "from time import process_time  # timing utility\n",
    "from HARK.distribution import DiscreteDistribution\n",
    "from HARK.ConsumptionSaving.TractableBufferStockModel import TractableConsumerType\n",
    "import numpy as np\n",
    "do_simulation = True"
   ]
  },
  {
   "cell_type": "code",
   "execution_count": 2,
   "metadata": {},
   "outputs": [],
   "source": [
    "# Define the model primitives\n",
    "base_primitives = {\n",
    "    \"UnempPrb\": 0.00625,  # Probability of becoming unemployed\n",
    "    \"DiscFac\": 0.975,  # Intertemporal discount factor\n",
    "    \"Rfree\": 1.01,  # Risk-free interest factor on assets\n",
    "    \"PermGroFac\": 1.0025,  # Permanent income growth factor (uncompensated)\n",
    "    \"CRRA\": 1.0,\n",
    "}  # Coefficient of relative risk aversion"
   ]
  },
  {
   "cell_type": "code",
   "execution_count": 3,
   "metadata": {},
   "outputs": [],
   "source": [
    "# Define a dictionary to be used in case of simulation\n",
    "simulation_values = {\n",
    "    \"aLvlInitMean\": 0.0,  # Mean of log initial assets for new agents\n",
    "    \"aLvlInitStd\": 1.0,  # Stdev of log initial assets for new agents\n",
    "    \"AgentCount\": 10000,  # Number of agents to simulate\n",
    "    \"T_sim\": 120,  # Number of periods to simulate\n",
    "    \"T_cycle\": 1,\n",
    "}  # Number of periods in the cycle"
   ]
  },
  {
   "cell_type": "code",
   "execution_count": 4,
   "metadata": {},
   "outputs": [
    {
     "name": "stdout",
     "output_type": "stream",
     "text": [
      "Solving a tractable consumption-savings model took 0.0 seconds.\n"
     ]
    }
   ],
   "source": [
    "# Make and solve a tractable consumer type\n",
    "ExampleType = TractableConsumerType()\n",
    "ExampleType.assign_parameters(**base_primitives)\n",
    "t_start = process_time()\n",
    "ExampleType.solve()\n",
    "t_end = process_time()\n",
    "print(\n",
    "    \"Solving a tractable consumption-savings model took \"\n",
    "    + str(t_end - t_start)\n",
    "    + \" seconds.\"\n",
    ")"
   ]
  },
  {
   "cell_type": "code",
   "execution_count": 5,
   "metadata": {},
   "outputs": [
    {
     "data": {
      "image/png": "[encoded data removed]",
      "text/plain": [
       "<Figure size 432x288 with 1 Axes>"
      ]
     },
     "metadata": {
      "needs_background": "light"
     },
     "output_type": "display_data"
    }
   ],
   "source": [
    "# Plot the consumption function and whatnot\n",
    "m_upper = 1.5 * ExampleType.mTarg\n",
    "conFunc_PF = lambda m: ExampleType.h * ExampleType.PFMPC + ExampleType.PFMPC * m\n",
    "# plot_funcs([ExampleType.solution[0].cFunc,ExampleType.mSSfunc,ExampleType.cSSfunc],0,m_upper)\n",
    "plot_funcs([ExampleType.solution[0].cFunc, ExampleType.solution[0].cFunc_U], 0, m_upper)"
   ]
  },
  {
   "cell_type": "code",
   "execution_count": 6,
   "metadata": {
    "lines_to_next_cell": 2
   },
   "outputs": [],
   "source": [
    "if do_simulation:\n",
    "    ExampleType.assign_parameters(**simulation_values)  # Set attributes needed for simulation\n",
    "    ExampleType.track_vars = [\"mLvl\"]\n",
    "    ExampleType.make_shock_history()\n",
    "    ExampleType.initialize_sim()\n",
    "    ExampleType.simulate()"
   ]
  },
  {
   "cell_type": "code",
   "execution_count": 7,
   "metadata": {},
   "outputs": [],
   "source": [
    "# Now solve the same model using backward induction rather than the analytic method of TBS.\n",
    "# The TBS model is equivalent to a Markov model with two states, one of them absorbing (permanent unemployment).\n",
    "MrkvArray = np.array(\n",
    "    [[1.0 - base_primitives[\"UnempPrb\"], base_primitives[\"UnempPrb\"]], [0.0, 1.0]]\n",
    ")  # Define the two state, absorbing unemployment Markov array\n",
    "init_consumer_objects = {\n",
    "    \"CRRA\": base_primitives[\"CRRA\"],\n",
    "    \"Rfree\": np.array(\n",
    "        2 * [base_primitives[\"Rfree\"]]\n",
    "    ),  # Interest factor (same in both states)\n",
    "    \"PermGroFac\": [\n",
    "        np.array(\n",
    "            2 * [base_primitives[\"PermGroFac\"] / (1.0 - base_primitives[\"UnempPrb\"])]\n",
    "        )\n",
    "    ],  # Unemployment-compensated permanent growth factor\n",
    "    \"BoroCnstArt\": None,  # Artificial borrowing constraint\n",
    "    \"PermShkStd\": [0.0],  # Permanent shock standard deviation\n",
    "    \"PermShkCount\": 1,  # Number of shocks in discrete permanent shock distribution\n",
    "    \"TranShkStd\": [0.0],  # Transitory shock standard deviation\n",
    "    \"TranShkCount\": 1,  # Number of shocks in discrete permanent shock distribution\n",
    "    \"T_cycle\": 1,  # Number of periods in cycle\n",
    "    \"UnempPrb\": 0.0,  # Unemployment probability (not used, as the unemployment here is *permanent*, not transitory)\n",
    "    \"UnempPrbRet\": 0.0,  # Unemployment probability when retired (irrelevant here)\n",
    "    \"T_retire\": 0,  # Age at retirement (turned off)\n",
    "    \"IncUnemp\": 0.0,  # Income when unemployed (irrelevant)\n",
    "    \"IncUnempRet\": 0.0,  # Income when unemployed and retired (irrelevant)\n",
    "    \"aXtraMin\": 0.001,  # Minimum value of assets above minimum in grid\n",
    "    \"aXtraMax\": ExampleType.mUpperBnd,  # Maximum value of assets above minimum in grid\n",
    "    \"aXtraCount\": 48,  # Number of points in assets grid\n",
    "    \"aXtraExtra\": [None],  # Additional points to include in assets grid\n",
    "    \"aXtraNestFac\": 3,  # Degree of exponential nesting when constructing assets grid\n",
    "    \"LivPrb\": [np.array([1.0, 1.0])],  # Survival probability\n",
    "    \"DiscFac\": base_primitives[\"DiscFac\"],  # Intertemporal discount factor\n",
    "    \"AgentCount\": 1,  # Number of agents in a simulation (irrelevant)\n",
    "    \"tax_rate\": 0.0,  # Tax rate on labor income (irrelevant)\n",
    "    \"vFuncBool\": False,  # Whether to calculate the value function\n",
    "    \"CubicBool\": True,  # Whether to use cubic splines (False --> linear splines)\n",
    "    \"MrkvArray\": [MrkvArray],  # State transition probabilities\n",
    "}\n",
    "MarkovType = MarkovConsumerType(**init_consumer_objects)  # Make a basic consumer type"
   ]
  },
  {
   "cell_type": "code",
   "execution_count": 8,
   "metadata": {},
   "outputs": [],
   "source": [
    "employed_income_dist = DiscreteDistribution(np.ones(1),\n",
    "    np.array(\n",
    "        [\n",
    "            [1.0],\n",
    "            [1.0]\n",
    "        ]\n",
    "    )\n",
    ")  # Income distribution when employed\n",
    "unemployed_income_dist = DiscreteDistribution(np.ones(1),\n",
    "    np.array(\n",
    "        [\n",
    "            [1.0],\n",
    "            [0.0]\n",
    "        ]\n",
    "    )\n",
    ")  # Income distribution when permanently unemployed"
   ]
  },
  {
   "cell_type": "code",
   "execution_count": 9,
   "metadata": {},
   "outputs": [],
   "source": [
    "MarkovType.IncShkDstn = [\n",
    "    [employed_income_dist, unemployed_income_dist]\n",
    "]  # set the income distribution in each state\n",
    "MarkovType.cycles = 0"
   ]
  },
  {
   "cell_type": "code",
   "execution_count": 10,
   "metadata": {},
   "outputs": [],
   "source": [
    "# Solve the \"Markov TBS\" model\n",
    "t_start = process_time()\n",
    "MarkovType.solve()\n",
    "t_end = process_time()\n",
    "MarkovType.unpack('cFunc')"
   ]
  },
  {
   "cell_type": "code",
   "execution_count": 11,
   "metadata": {},
   "outputs": [
    {
     "name": "stdout",
     "output_type": "stream",
     "text": [
      "Solving the same model \"the long way\" took 1.15625 seconds.\n"
     ]
    },
    {
     "data": {
      "image/png": "[encoded data removed]",
      "text/plain": [
       "<Figure size 432x288 with 1 Axes>"
      ]
     },
     "metadata": {
      "needs_background": "light"
     },
     "output_type": "display_data"
    },
    {
     "name": "stdout",
     "output_type": "stream",
     "text": [
      "Difference between the (employed) consumption functions:\n"
     ]
    },
    {
     "data": {
      "image/png": "[encoded data removed]",
      "text/plain": [
       "<Figure size 432x288 with 1 Axes>"
      ]
     },
     "metadata": {
      "needs_background": "light"
     },
     "output_type": "display_data"
    }
   ],
   "source": [
    "print(\n",
    "    'Solving the same model \"the long way\" took ' + str(t_end - t_start) + \" seconds.\"\n",
    ")\n",
    "# plot_funcs([ExampleType.solution[0].cFunc,ExampleType.solution[0].cFunc_U],0,m_upper)\n",
    "plot_funcs(MarkovType.cFunc[0], 0, m_upper)\n",
    "diffFunc = lambda m: ExampleType.solution[0].cFunc(m) - MarkovType.cFunc[0][0](m)\n",
    "print(\"Difference between the (employed) consumption functions:\")\n",
    "plot_funcs(diffFunc, 0, m_upper)"
   ]
  },
  {
   "cell_type": "code",
   "execution_count": null,
   "metadata": {},
   "outputs": [],
   "source": []
  },
  {
   "cell_type": "code",
   "execution_count": null,
   "metadata": {},
   "outputs": [],
   "source": []
  }
 ],
 "metadata": {
  "jupytext": {
   "cell_metadata_filter": "-all",
   "main_language": "python",
   "notebook_metadata_filter": "-all"
  },
  "kernelspec": {
   "display_name": "Python 3 (ipykernel)",
   "language": "python",
   "name": "python3"
  },
  "language_info": {
   "codemirror_mode": {
    "name": "ipython",
    "version": 3
   },
   "file_extension": ".py",
   "mimetype": "text/x-python",
   "name": "python",
   "nbconvert_exporter": "python",
   "pygments_lexer": "ipython3",
   "version": "3.8.8"
  },
  "latex_envs": {
   "LaTeX_envs_menu_present": true,
   "autoclose": false,
   "autocomplete": true,
   "bibliofile": "biblio.bib",
   "cite_by": "apalike",
   "current_citInitial": 1,
   "eqLabelWithNumbers": true,
   "eqNumInitial": 1,
   "hotkeys": {
    "equation": "Ctrl-E",
    "itemize": "Ctrl-I"
   },
   "labels_anchors": false,
   "latex_user_defs": false,
   "report_style_numbering": false,
   "user_envs_cfg": false
  }
 },
 "nbformat": 4,
 "nbformat_minor": 4
}
