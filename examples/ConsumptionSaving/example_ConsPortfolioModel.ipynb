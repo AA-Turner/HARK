{
 "cells": [
  {
   "cell_type": "code",
   "execution_count": null,
   "metadata": {},
   "outputs": [],
   "source": [
    "'''\n",
    "Example implementations of HARK.ConsumptionSaving.ConsPortfolioModel\n",
    "'''\n",
    "from HARK.ConsumptionSaving.ConsPortfolioModel import PortfolioConsumerType, init_portfolio\n",
    "from HARK.ConsumptionSaving.ConsIndShockModel import init_lifecycle\n",
    "from HARK.utilities import plotFuncs\n",
    "from copy import copy\n",
    "from time import time\n",
    "import numpy as np\n",
    "import matplotlib.pyplot as plt"
   ]
  },
  {
   "cell_type": "code",
   "execution_count": null,
   "metadata": {},
   "outputs": [],
   "source": [
    "# Make and solve an example portfolio choice consumer type\n",
    "print('Now solving an example portfolio choice problem; this might take a moment...')\n",
    "MyType = PortfolioConsumerType()\n",
    "MyType.cycles = 0\n",
    "t0 = time()\n",
    "MyType.solve()\n",
    "t1 = time()\n",
    "MyType.cFunc = [MyType.solution[t].cFuncAdj for t in range(MyType.T_cycle)]\n",
    "MyType.ShareFunc = [MyType.solution[t].ShareFuncAdj for t in range(MyType.T_cycle)]\n",
    "print('Solving an infinite horizon portfolio choice problem took ' + str(t1-t0) + ' seconds.')"
   ]
  },
  {
   "cell_type": "code",
   "execution_count": null,
   "metadata": {},
   "outputs": [],
   "source": [
    "# Plot the consumption and risky-share functions\n",
    "print('Consumption function over market resources:')\n",
    "plotFuncs(MyType.cFunc[0], 0., 20.)\n",
    "print('Risky asset share as a function of market resources:')\n",
    "print('Optimal (blue) versus Theoretical Limit (orange)')\n",
    "plt.xlabel('Normalized Market Resources')\n",
    "plt.ylabel('Portfolio Share')\n",
    "plt.ylim(0.0,1.0)\n",
    "# Since we are using a discretization of the lognormal distribution,\n",
    "# the limit is numerically computed and slightly different from \n",
    "# the analytical limit obtained by Merton and Samuelson for infinite wealth\n",
    "plotFuncs([MyType.ShareFunc[0]\n",
    "#           ,lambda m: RiskyShareMertSamLogNormal(MyType.RiskPrem,MyType.CRRA,MyType.RiskyVar)*np.ones_like(m)\n",
    "           ,lambda m: MyType.ShareLimit*np.ones_like(m)\n",
    "          ] , 0., 200.)"
   ]
  },
  {
   "cell_type": "code",
   "execution_count": null,
   "metadata": {},
   "outputs": [],
   "source": [
    "# Now simulate this consumer type\n",
    "MyType.track_vars = ['cNrm', 'Share', 'aNrm', 't_age']\n",
    "MyType.T_sim = 100\n",
    "MyType.initializeSim()\n",
    "MyType.simulate()"
   ]
  },
  {
   "cell_type": "code",
   "execution_count": null,
   "metadata": {},
   "outputs": [],
   "source": [
    "print('\\n\\n\\n')\n",
    "print('For derivation of the numerical limiting portfolio share')\n",
    "print('as market resources approach infinity, see')\n",
    "print('http://www.econ2.jhu.edu/people/ccarroll/public/lecturenotes/AssetPricing/Portfolio-CRRA/')"
   ]
  },
  {
   "cell_type": "code",
   "execution_count": null,
   "metadata": {},
   "outputs": [],
   "source": [
    "\"\"\n",
    "# Make another example type, but this one optimizes risky portfolio share only\n",
    "# on the discrete grid of values implicitly chosen by RiskyCount, using explicit\n",
    "# value maximization.\n",
    "init_discrete_share = init_portfolio.copy()\n",
    "init_discrete_share['DiscreteShareBool'] = True\n",
    "init_discrete_share['vFuncBool'] = True # Have to actually construct value function for this to work"
   ]
  },
  {
   "cell_type": "code",
   "execution_count": null,
   "metadata": {},
   "outputs": [],
   "source": [
    "# Make and solve a discrete portfolio choice consumer type\n",
    "print('Now solving a discrete choice portfolio problem; this might take a minute...')\n",
    "DiscreteType = PortfolioConsumerType(**init_discrete_share)\n",
    "DiscreteType.cycles = 0\n",
    "t0 = time()\n",
    "DiscreteType.solve()\n",
    "t1 = time()\n",
    "DiscreteType.cFunc = [DiscreteType.solution[t].cFuncAdj for t in range(DiscreteType.T_cycle)]\n",
    "DiscreteType.ShareFunc = [DiscreteType.solution[t].ShareFuncAdj for t in range(DiscreteType.T_cycle)]\n",
    "print('Solving an infinite horizon discrete portfolio choice problem took ' + str(t1-t0) + ' seconds.')"
   ]
  },
  {
   "cell_type": "code",
   "execution_count": null,
   "metadata": {
    "lines_to_next_cell": 2
   },
   "outputs": [],
   "source": [
    "# Plot the consumption and risky-share functions\n",
    "print('Consumption function over market resources:')\n",
    "plotFuncs(DiscreteType.cFunc[0], 0., 50.)\n",
    "print('Risky asset share as a function of market resources:')\n",
    "print('Optimal (blue) versus Theoretical Limit (orange)')\n",
    "plt.xlabel('Normalized Market Resources')\n",
    "plt.ylabel('Portfolio Share')\n",
    "plt.ylim(0.0,1.0)\n",
    "# Since we are using a discretization of the lognormal distribution,\n",
    "# the limit is numerically computed and slightly different from \n",
    "# the analytical limit obtained by Merton and Samuelson for infinite wealth\n",
    "plotFuncs([DiscreteType.ShareFunc[0]\n",
    "           ,lambda m: DiscreteType.ShareLimit*np.ones_like(m)\n",
    "          ] , 0., 200.)"
   ]
  },
  {
   "cell_type": "code",
   "execution_count": null,
   "metadata": {},
   "outputs": [],
   "source": [
    "print('\\n\\n\\n')"
   ]
  },
  {
   "cell_type": "code",
   "execution_count": null,
   "metadata": {},
   "outputs": [],
   "source": [
    "\"\"\n",
    "# Make another example type, but this one can only update their risky portfolio\n",
    "# share in any particular period with 15% probability.\n",
    "init_sticky_share = init_portfolio.copy()\n",
    "init_sticky_share['AdjustPrb'] = 0.15"
   ]
  },
  {
   "cell_type": "code",
   "execution_count": null,
   "metadata": {},
   "outputs": [],
   "source": [
    "# Make and solve a discrete portfolio choice consumer type\n",
    "print('Now solving a portfolio choice problem with \"sticky\" portfolio shares; this might take a moment...')\n",
    "StickyType = PortfolioConsumerType(**init_sticky_share)\n",
    "StickyType.cycles = 0\n",
    "t0 = time()\n",
    "StickyType.solve()\n",
    "t1 = time()\n",
    "StickyType.cFuncAdj = [StickyType.solution[t].cFuncAdj for t in range(StickyType.T_cycle)]\n",
    "StickyType.cFuncFxd = [StickyType.solution[t].cFuncFxd for t in range(StickyType.T_cycle)]\n",
    "StickyType.ShareFunc = [StickyType.solution[t].ShareFuncAdj for t in range(StickyType.T_cycle)]\n",
    "print('Solving an infinite horizon sticky portfolio choice problem took ' + str(t1-t0) + ' seconds.')"
   ]
  },
  {
   "cell_type": "code",
   "execution_count": null,
   "metadata": {},
   "outputs": [],
   "source": [
    "# Plot the consumption and risky-share functions\n",
    "print('Consumption function over market resources when the agent can adjust his portfolio:')\n",
    "plotFuncs(StickyType.cFuncAdj[0], 0., 50.)"
   ]
  },
  {
   "cell_type": "code",
   "execution_count": null,
   "metadata": {},
   "outputs": [],
   "source": [
    "print(\"Consumption function over market resources when the agent CAN'T adjust, by current share:\")\n",
    "M = np.linspace(0., 50., 200)\n",
    "for s in np.linspace(0.,1.,21):\n",
    "    C = StickyType.cFuncFxd[0](M, s*np.ones_like(M))\n",
    "    plt.plot(M,C)\n",
    "plt.xlim(0.,50.)\n",
    "plt.ylim(0.,None)\n",
    "plt.show()"
   ]
  },
  {
   "cell_type": "code",
   "execution_count": null,
   "metadata": {},
   "outputs": [],
   "source": [
    "print('Risky asset share function over market resources (when possible to adjust):')\n",
    "print('Optimal (blue) versus Theoretical Limit (orange)')\n",
    "plt.xlabel('Normalized Market Resources')\n",
    "plt.ylabel('Portfolio Share')\n",
    "plt.ylim(0.0,1.0)\n",
    "plotFuncs([StickyType.ShareFunc[0]\n",
    "           ,lambda m: StickyType.ShareLimit*np.ones_like(m)\n",
    "          ] , 0., 200.)"
   ]
  },
  {
   "cell_type": "code",
   "execution_count": null,
   "metadata": {},
   "outputs": [],
   "source": [
    "\"\"\n",
    "# Make another example type, but this one has *age-varying* perceptions of risky asset returns.\n",
    "# Begin by making a lifecycle dictionary, but adjusted for the portfolio choice model.\n",
    "init_age_varying_risk_perceptions = copy(init_lifecycle)\n",
    "init_age_varying_risk_perceptions['RiskyCount']      = init_portfolio['RiskyCount']\n",
    "init_age_varying_risk_perceptions['ShareCount']      = init_portfolio['ShareCount']\n",
    "init_age_varying_risk_perceptions['aXtraMax']        = init_portfolio['aXtraMax']\n",
    "init_age_varying_risk_perceptions['aXtraCount']      = init_portfolio['aXtraCount']\n",
    "init_age_varying_risk_perceptions['aXtraNestFac']    = init_portfolio['aXtraNestFac']\n",
    "init_age_varying_risk_perceptions['BoroCnstArt']     = init_portfolio['BoroCnstArt']\n",
    "init_age_varying_risk_perceptions['CRRA']            = init_portfolio['CRRA']\n",
    "init_age_varying_risk_perceptions['DiscFac']         = init_portfolio['DiscFac']"
   ]
  },
  {
   "cell_type": "code",
   "execution_count": null,
   "metadata": {},
   "outputs": [],
   "source": [
    "init_age_varying_risk_perceptions['RiskyAvg']        = 10*[1.08]\n",
    "init_age_varying_risk_perceptions['RiskyStd']        = [0.20,0.21,0.22,0.23,0.24,0.25,0.26,0.27,0.28,0.29]\n",
    "init_age_varying_risk_perceptions['RiskyAvgTrue']    = 1.08\n",
    "init_age_varying_risk_perceptions['RiskyStdTrue']    = 0.20\n",
    "AgeVaryingRiskPercType = PortfolioConsumerType(**init_age_varying_risk_perceptions)\n",
    "AgeVaryingRiskPercType.cycles = 1"
   ]
  },
  {
   "cell_type": "code",
   "execution_count": null,
   "metadata": {},
   "outputs": [],
   "source": [
    "# Solve the agent type with age-varying risk perceptions\n",
    "print('Now solving a portfolio choice problem with age-varying risk perceptions...')\n",
    "t0 = time()\n",
    "AgeVaryingRiskPercType.solve()\n",
    "AgeVaryingRiskPercType.cFunc = [AgeVaryingRiskPercType.solution[t].cFuncAdj for t in range(AgeVaryingRiskPercType.T_cycle)]\n",
    "AgeVaryingRiskPercType.ShareFunc = [AgeVaryingRiskPercType.solution[t].ShareFuncAdj for t in range(AgeVaryingRiskPercType.T_cycle)]\n",
    "t1 = time()\n",
    "print('Solving a ' + str(AgeVaryingRiskPercType.T_cycle) + ' period portfolio choice problem with age-varying risk perceptions took ' + str(t1-t0) + ' seconds.')"
   ]
  },
  {
   "cell_type": "code",
   "execution_count": null,
   "metadata": {},
   "outputs": [],
   "source": [
    "# Plot the consumption and risky-share functions\n",
    "print('Consumption function over market resources in each lifecycle period:')\n",
    "plotFuncs(AgeVaryingRiskPercType.cFunc, 0., 20.)\n",
    "print('Risky asset share function over market resources in each lifecycle period:')\n",
    "plotFuncs(AgeVaryingRiskPercType.ShareFunc, 0., 200.)"
   ]
  },
  {
   "cell_type": "markdown",
   "metadata": {
    "lines_to_next_cell": 1
   },
   "source": [
    "The code below tests the mathematical limits of the model.\n",
    "\n",
    "Create a grid of market resources for the plots    \n",
    "mMin = 0    # Minimum ratio of assets to income to plot\n",
    "mMax = 5*1e2 # Maximum ratio of assets to income to plot\n",
    "mPts = 1000 # Number of points to plot \n",
    "\n",
    "eevalgrid = np.linspace(0,mMax,mPts) # range of values of assets for the plot\n",
    "\n",
    "Number of points that will be used to approximate the risky distribution\n",
    "risky_count_grid = [5,200]\n",
    "Plot by ages (time periods) at which to plot. We will use the default\n",
    "life-cycle calibration, which has 10 periods.\n",
    "ages = [2, 4, 6, 8]\n",
    "\n",
    "Create a function to compute the Merton-Samuelson limiting portfolio share.\n",
    "def RiskyShareMertSamLogNormal(RiskPrem,CRRA,RiskyVar):\n",
    "    return RiskPrem/(CRRA*RiskyVar)"
   ]
  },
  {
   "cell_type": "code",
   "execution_count": null,
   "metadata": {
    "lines_to_next_cell": 2,
    "title": "Calibration and solution"
   },
   "outputs": [],
   "source": [
    "for rcount in risky_count_grid:\n",
    "    \n",
    "    # Create a new dictionary and replace the number of points that\n",
    "    # approximate the risky return distribution\n",
    "    \n",
    "    # Create new dictionary copying the default\n",
    "    merton_dict = init_lifecycle.copy()\n",
    "    merton_dict['RiskyCount'] = rcount\n",
    "\n",
    "    # Create and solve agent\n",
    "    agent = PortfolioConsumerType(**merton_dict)\n",
    "    agent.solve()\n",
    "\n",
    "    # Compute the analytical Merton-Samuelson limiting portfolio share\n",
    "    RiskyVar = agent.RiskyStd**2\n",
    "    RiskPrem = agent.RiskyAvg - agent.Rfree \n",
    "    MS_limit = RiskyShareMertSamLogNormal(RiskPrem,\n",
    "                                          agent.CRRA,\n",
    "                                          RiskyVar)\n",
    "    \n",
    "    # Now compute the limiting share numerically, using the approximated\n",
    "    # distribution\n",
    "    agent.updateShareLimit()\n",
    "    NU_limit = agent.ShareLimit\n",
    "    \n",
    "    plt.figure()\n",
    "    for a in ages:\n",
    "        plt.plot(eevalgrid,\n",
    "                 agent.solution[a]\\\n",
    "                 .ShareFuncAdj(eevalgrid),\n",
    "                 label = 't = %i' %(a))\n",
    "    \n",
    "    plt.axhline(NU_limit, c='k', ls='-.', label = 'Exact limit as $m\\\\rightarrow \\\\infty$.')\n",
    "    plt.axhline(MS_limit, c='k', ls='--', label = 'M&S Limit without returns discretization.')\n",
    "\n",
    "    plt.ylim(0,1.05)\n",
    "    plt.xlim(eevalgrid[0],eevalgrid[-1])\n",
    "    plt.legend()\n",
    "    plt.title('Risky Portfolio Share by Age\\n Risky distribution with {points} equiprobable points'.format(points = rcount))\n",
    "    plt.xlabel('Wealth (m)')\n",
    "\n",
    "    plt.ioff()\n",
    "    plt.draw()"
   ]
  },
  {
   "cell_type": "code",
   "execution_count": null,
   "metadata": {},
   "outputs": [],
   "source": []
  },
  {
   "cell_type": "code",
   "execution_count": null,
   "metadata": {},
   "outputs": [],
   "source": []
  }
 ],
 "metadata": {
  "jupytext": {
   "cell_metadata_filter": "title,-all",
   "main_language": "python",
   "notebook_metadata_filter": "-all"
  }
 },
 "nbformat": 4,
 "nbformat_minor": 4
}
