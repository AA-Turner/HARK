{
 "cells": [
  {
   "cell_type": "code",
   "execution_count": 87,
   "metadata": {},
   "outputs": [],
   "source": [
    "import sympy as sym"
   ]
  },
  {
   "cell_type": "code",
   "execution_count": 88,
   "metadata": {},
   "outputs": [],
   "source": [
    "c, a, m = sym.symbols(\"c a m\")\n",
    "rho = sym.symbols(\"rho\")\n",
    "gamma_1, gamma_2, gamma_3 = sym.symbols(\"gamma_1 gamma_2 gamma_3\")"
   ]
  },
  {
   "cell_type": "code",
   "execution_count": 89,
   "metadata": {},
   "outputs": [
    {
     "data": {
      "text/latex": [
       "$\\displaystyle \\frac{c^{1 - \\rho}}{1 - \\rho} + \\frac{\\gamma_{1} \\left(a + \\gamma_{3}\\right)^{1 - \\gamma_{2}}}{1 - \\gamma_{2}}$"
      ],
      "text/plain": [
       "c**(1 - rho)/(1 - rho) + gamma_1*(a + gamma_3)**(1 - gamma_2)/(1 - gamma_2)"
      ]
     },
     "execution_count": 89,
     "metadata": {},
     "output_type": "execute_result"
    }
   ],
   "source": [
    "# function \n",
    "u = c**(1-rho)/(1-rho) + gamma_1 * (a + gamma_3) ** (1 - gamma_2) / (1 - gamma_2)\n",
    "u"
   ]
  },
  {
   "cell_type": "code",
   "execution_count": 95,
   "metadata": {},
   "outputs": [
    {
     "data": {
      "text/latex": [
       "$\\displaystyle \\left(c^{- \\rho}\\right)^{- \\frac{1}{\\rho}}$"
      ],
      "text/plain": [
       "(c**(-rho))**(-1/rho)"
      ]
     },
     "execution_count": 95,
     "metadata": {},
     "output_type": "execute_result"
    }
   ],
   "source": [
    "sym.powsimp(sym.cancel(u.diff(c)**(1/-rho)))"
   ]
  },
  {
   "cell_type": "code",
   "execution_count": 99,
   "metadata": {},
   "outputs": [
    {
     "data": {
      "text/latex": [
       "$\\displaystyle c^{- 2 \\rho}$"
      ],
      "text/plain": [
       "c**(-2*rho)"
      ]
     },
     "execution_count": 99,
     "metadata": {},
     "output_type": "execute_result"
    }
   ],
   "source": [
    "(c**(-rho))**(2)"
   ]
  },
  {
   "cell_type": "code",
   "execution_count": 91,
   "metadata": {},
   "outputs": [
    {
     "data": {
      "text/latex": [
       "$\\displaystyle \\frac{\\gamma_{1} \\left(a + \\gamma_{3}\\right)^{1 - \\gamma_{2}}}{a + \\gamma_{3}}$"
      ],
      "text/plain": [
       "gamma_1*(a + gamma_3)**(1 - gamma_2)/(a + gamma_3)"
      ]
     },
     "execution_count": 91,
     "metadata": {},
     "output_type": "execute_result"
    }
   ],
   "source": [
    "u.diff(a)"
   ]
  },
  {
   "cell_type": "code",
   "execution_count": 92,
   "metadata": {},
   "outputs": [
    {
     "data": {
      "text/latex": [
       "$\\displaystyle \\left(c^{- \\rho}\\right)^{- \\frac{1}{\\rho}} = \\left(\\gamma_{1} \\left(a + \\gamma_{3}\\right)^{- \\gamma_{2}}\\right)^{- \\frac{1}{\\rho}}$"
      ],
      "text/plain": [
       "Eq((c**(-rho))**(-1/rho), (gamma_1/(a + gamma_3)**gamma_2)**(-1/rho))"
      ]
     },
     "execution_count": 92,
     "metadata": {},
     "output_type": "execute_result"
    }
   ],
   "source": [
    "sym.simplify(sym.Eq(sym.simplify(u.diff(c)**(1/-rho)), u.diff(a)**(1/-rho)))"
   ]
  },
  {
   "cell_type": "code",
   "execution_count": null,
   "metadata": {},
   "outputs": [],
   "source": []
  }
 ],
 "metadata": {
  "kernelspec": {
   "display_name": "hark-dev",
   "language": "python",
   "name": "python3"
  },
  "language_info": {
   "codemirror_mode": {
    "name": "ipython",
    "version": 3
   },
   "file_extension": ".py",
   "mimetype": "text/x-python",
   "name": "python",
   "nbconvert_exporter": "python",
   "pygments_lexer": "ipython3",
   "version": "3.9.16"
  },
  "orig_nbformat": 4
 },
 "nbformat": 4,
 "nbformat_minor": 2
}
